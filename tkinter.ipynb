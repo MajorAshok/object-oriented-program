    "from tkinter import *\n",
    "\n",
    "# create root window\n",
    "root = Tk()\n",
    "\n",
    "# frame inside root window\n",
    "frame = Frame(root)\n",
    "\n",
    "# geometry method\n",
    "frame.pack()\n",
    "\n",
    "# button inside frame which is\n",
    "# inside root\n",
    "button = Button(frame, text='Geek')\n",
    "button.pack()\n",
    "\n",
    "# Tkinter event loop\n",
    "root.mainloop()\n"
  {
   "cell_type": "code",
   "execution_count": null,
   "id": "41caacb6",
   "metadata": {},
   "outputs": [],
   "source": [
    "from tkinter import *\n",
    "\n",
    "# create root window\n",
    "root = Tk()\n",
    "\n",
    "# frame inside root window\n",
    "frame = Frame(root)\n",
    "\n",
    "# geometry method\n",
    "frame.pack()\n",
    "\n",
    "# button inside frame which is\n",
    "# inside root\n",
    "button = Button(frame, text='first GUI')\n",
    "button.pack()\n",
    "\n",
    "# Tkinter event loop\n",
    "root.mainloop()"
   ]
  },
  {
   "cell_type": "markdown",
   "id": "dc389767",
   "metadata": {},
   "source": [
    "# Creating a Button using tkinters"
   ]
  },
  {
   "cell_type": "code",
   "execution_count": 4,
   "id": "37ff1c5b",
   "metadata": {},
   "outputs": [
    {
     "name": "stdout",
     "output_type": "stream",
     "text": [
      "Button clicked!\n",
      "Button clicked!\n",
      "Button clicked!\n",
      "Button clicked!\n",
      "Button clicked!\n"
     ]
    }
   ],
   "source": [
    "import tkinter as tk\n",
    "\n",
    "def button_clicked():\n",
    "    print(\"Button clicked!\")\n",
    "\n",
    "root = tk.Tk()\n",
    "\n",
    "# Creating a button with specified options\n",
    "button = tk.Button(root, \n",
    "                   text=\"Click Me\", \n",
    "                   command=button_clicked,\n",
    "                   activebackground=\"blue\", \n",
    "                   activeforeground=\"white\",\n",
    "                   anchor=\"center\",\n",
    "                   bd=3,\n",
    "                   bg=\"lightgray\",\n",
    "                   cursor=\"hand2\",\n",
    "                   disabledforeground=\"gray\",\n",
    "                   fg=\"black\",\n",
    "                   font=(\"Arial\", 12),\n",
    "                   height=2,\n",
    "                   highlightbackground=\"black\",\n",
    "                   highlightcolor=\"green\",\n",
    "                   highlightthickness=2,\n",
    "                   justify=\"center\",\n",
    "                   overrelief=\"raised\",\n",
    "                   padx=10,\n",
    "                   pady=5,\n",
    "                   width=15,\n",
    "                   wraplength=100)\n",
    "\n",
    "button.pack(padx=20, pady=20)\n",
    "\n",
    "root.mainloop()"
   ]
  },
  {
   "cell_type": "markdown",
   "id": "47a97c95",
   "metadata": {},
   "source": [
    "# Themed Widget "
   ]
  },
  {
   "cell_type": "code",
   "execution_count": 6,
   "id": "b991f399",
   "metadata": {},
   "outputs": [],
   "source": [
    "# import tkinter module \n",
    "from tkinter import *        \n",
    "\n",
    "# Following will import tkinter.ttk module and \n",
    "# automatically override all the widgets \n",
    "# which are present in tkinter module. \n",
    "from tkinter.ttk import *\n",
    "\n",
    "# Create Object\n",
    "root = Tk() \n",
    "\n",
    "# Initialize tkinter window with dimensions 100x100             \n",
    "root.geometry('100x100')     \n",
    "\n",
    "btn = Button(root, text = 'Click me !', \n",
    "                command = root.destroy) \n",
    "\n",
    "# Set the position of button on the top of window \n",
    "btn.pack(side = 'top')     \n",
    "\n",
    "root.mainloop()"
   ]
  },
  {
   "cell_type": "markdown",
   "id": "e7ef5cc7",
   "metadata": {},
   "source": [
    "# Checking which button is clicked in tkinter"
   ]
  },
  {
   "cell_type": "code",
   "execution_count": 7,
   "id": "45dd092c",
   "metadata": {},
   "outputs": [
    {
     "name": "stdout",
     "output_type": "stream",
     "text": [
      "Button clicked: Apple\n",
      "Button clicked: Banana\n",
      "Button clicked: Apple\n",
      "Button clicked: Banana\n",
      "Button clicked: Banana\n",
      "Button clicked: Banana\n",
      "Button clicked: Apple\n",
      "Button clicked: Apple\n",
      "Button clicked: Banana\n"
     ]
    }
   ],
   "source": [
    "# Import the library tkinter\n",
    "from tkinter import *\n",
    "\n",
    "# Create a GUI app\n",
    "app = Tk()\n",
    "\n",
    "# Create a function with one parameter to indicate which button was clicked\n",
    "def which_button(button_text):\n",
    "    # Printing the text when a button is clicked\n",
    "    print(f\"Button clicked: {button_text}\")\n",
    "\n",
    "# Creating and displaying of button b1\n",
    "b1 = Button(app, text=\"Apple\", command=lambda: which_button(\"Apple\"))\n",
    "b1.grid(padx=10, pady=10)\n",
    "\n",
    "# Creating and displaying of button b2\n",
    "b2 = Button(app, text=\"Banana\", command=lambda: which_button(\"Banana\"))\n",
    "b2.grid(padx=10, pady=10)\n",
    "\n",
    "# Make the infinite loop for displaying the app\n",
    "app.mainloop()"
   ]
  },
  {
   "cell_type": "markdown",
   "id": "34ebdab5",
   "metadata": {},
   "source": [
    "# Looping through button in TKinter"
   ]
  },
  {
   "cell_type": "code",
   "execution_count": 15,
   "id": "34cbab37",
   "metadata": {},
   "outputs": [],
   "source": [
    "# Import package and it's modules \n",
    "from tkinter import *\n",
    "  \n",
    "  \n",
    "# text_update function \n",
    "def text_updation(language): \n",
    "    text.delete(0, END) \n",
    "    text.insert(0, language) \n",
    "  \n",
    "# create root window \n",
    "root = Tk() \n",
    "  \n",
    "# root window title and dimension \n",
    "root.title(\"GUI Created on 10-05-25\") \n",
    "  \n",
    "# Set geometry (widthxheight) \n",
    "root.geometry('400x400') \n",
    "  \n",
    "# Entry Box \n",
    "text = Entry(root, width=30, bg='White') \n",
    "text.pack(pady=10) \n",
    "  \n",
    "# create buttons \n",
    "button_dict = {} \n",
    "words = [\"Python\", \"Java\", \"R\", \"JavaScript\"] \n",
    "for lang in words: \n",
    "    \n",
    "    # pass each button's text to a function \n",
    "    def action(x = lang):  \n",
    "        return text_updation(x) \n",
    "        \n",
    "    # create the buttons  \n",
    "    button_dict[lang] = Button(root, text = lang, \n",
    "                               command = action) \n",
    "    button_dict[lang].pack(pady=10) \n",
    "  \n",
    "# Execute Tkinter \n",
    "root.mainloop()"
   ]
  },
  {
   "cell_type": "code",
   "execution_count": 13,
   "id": "b721dfe6",
   "metadata": {},
   "outputs": [],
   "source": [
    "# Importing tkinter module \n",
    "from tkinter import *       \n",
    " \n",
    "# Creating a tkinter window\n",
    "root = Tk() \n",
    " \n",
    "# Initialize tkinter window with dimensions 300 x 250             \n",
    "root.geometry('300x250')     \n",
    " \n",
    "# Creating a Button\n",
    "btn = Button(root, text = 'Click me !', command = root.destroy)\n",
    " \n",
    "# Set the position of button to coordinate (100, 20)\n",
    "btn.place(x=100, y=20)\n",
    " \n",
    "root.mainloop()"
   ]
  },
  {
   "cell_type": "markdown",
   "id": "344a04e7",
   "metadata": {},
   "source": [
    "# How to  move a button in Tkinter"
   ]
  },
  {
   "cell_type": "markdown",
   "id": "28fa02a5",
   "metadata": {},
   "source": [
    "# Method 1 : Using the place method"
   ]
  },
  {
   "cell_type": "code",
   "execution_count": 14,
   "id": "27a141ed",
   "metadata": {},
   "outputs": [],
   "source": [
    "# Importing tkinter module \n",
    "from tkinter import *       \n",
    " \n",
    "# Creating a tkinter window\n",
    "root = Tk() \n",
    " \n",
    "# Initialize tkinter window with dimensions 300 x 250             \n",
    "root.geometry('300x250')     \n",
    " \n",
    "# Creating a Button\n",
    "btn = Button(root, text = 'Click me !', command = root.destroy)\n",
    " \n",
    "# Set a relative position of button\n",
    "btn.pack(side=RIGHT, padx=15, pady=20)\n",
    " \n",
    "root.mainloop()"
   ]
  },
  {
   "cell_type": "markdown",
   "id": "8f241ee6",
   "metadata": {},
   "source": [
    "## Method 2: Using the pack method "
   ]
  },
  {
   "cell_type": "code",
   "execution_count": 22,
   "id": "58e3157e",
   "metadata": {},
   "outputs": [],
   "source": [
    "# Importing tkinter module \n",
    "from tkinter import *       \n",
    " \n",
    "# Creating a tkinter window\n",
    "root = Tk() \n",
    " \n",
    "# Initialize tkinter window with dimensions 300 x 250             \n",
    "root.geometry('300x250')     \n",
    " \n",
    "# Creating a Button\n",
    "btn = Button(root, text = 'Click me !', command = root.destroy)\n",
    " \n",
    "# Set a relative position of button\n",
    "btn.pack(side='left', padx=20, pady=60)\n",
    " \n",
    "root.mainloop()"
   ]
  },
  {
   "cell_type": "markdown",
   "id": "5e54c12d",
   "metadata": {},
   "source": [
    "## Method 3 : using grid method"
   ]
  },
  {
   "cell_type": "code",
   "execution_count": 23,
   "id": "f8f8250e",
   "metadata": {},
   "outputs": [],
   "source": [
    "# Importing tkinter module \n",
    "from tkinter import *       \n",
    " \n",
    "# Creating a tkinter window\n",
    "root = Tk() \n",
    " \n",
    "# Initialize tkinter window \n",
    "# with dimensions 300 x 250             \n",
    "root.geometry('300x250')     \n",
    " \n",
    "# Creating a Button\n",
    "btn1 = Button(root, text = 'btn1 !', \n",
    "              command = root.destroy)\n",
    "btn1.grid(row = 0, column = 0)\n",
    " \n",
    "# Creating a Button\n",
    "btn2 = Button(root, text = 'btn2 !', command = root.destroy)\n",
    "btn2.grid(row = 1, column = 1)\n",
    " \n",
    "# Creating a Button\n",
    "btn3 = Button(root, text = 'btn3 !', command = root.destroy)\n",
    "btn3.grid(row = 2, column = 2)\n",
    " \n",
    "# Creating a Button\n",
    "btn3 = Button(root, text = 'btn4 !', command = root.destroy)\n",
    "btn3.grid(row = 4, column = 4)\n",
    " \n",
    "root.mainloop()"
   ]
  },
  {
   "cell_type": "code",
   "execution_count": 1,
   "id": "d600d805",
   "metadata": {},
   "outputs": [],
   "source": [
    "# Importing tkinter module \n",
    "from tkinter import *\n",
    "# Importing random module\n",
    "import random\n",
    "\n",
    "# Creating a tkinter window\n",
    "root = Tk() \n",
    "\n",
    "# Initialize tkinter window with dimensions 300 x 250\n",
    "root.geometry('300x250')\n",
    "\n",
    "# Creating a Button\n",
    "btn = Button(root, text = 'Click me !')\n",
    "btn.pack()\n",
    "\n",
    "# Defining method on click\n",
    "def Clicked(event):\n",
    "\tx = random.randint(50,250)\n",
    "\ty = random.randint(50,200)\n",
    "\tbtn.place(x=x, y=y)\n",
    "\t\n",
    "\t\n",
    "# bind button\n",
    "btn.bind(\"<Button-1>\" ,Clicked)\n",
    "btn.pack()\n",
    "\n",
    "root.mainloop()\n"
   ]
  },
  {
   "cell_type": "code",
   "execution_count": 2,
   "id": "4a2ee2ee",
   "metadata": {},
   "outputs": [
    {
     "ename": "TclError",
     "evalue": "couldn't open \"on.png\": no such file or directory",
     "output_type": "error",
     "traceback": [
      "\u001b[1;31m---------------------------------------------------------------------------\u001b[0m",
      "\u001b[1;31mTclError\u001b[0m                                  Traceback (most recent call last)",
      "Cell \u001b[1;32mIn[2], line 42\u001b[0m\n\u001b[0;32m     39\u001b[0m \t\tis_on \u001b[38;5;241m=\u001b[39m \u001b[38;5;28;01mTrue\u001b[39;00m\n\u001b[0;32m     41\u001b[0m \u001b[38;5;66;03m# Define Our Images\u001b[39;00m\n\u001b[1;32m---> 42\u001b[0m on \u001b[38;5;241m=\u001b[39m \u001b[43mPhotoImage\u001b[49m\u001b[43m(\u001b[49m\u001b[43mfile\u001b[49m\u001b[43m \u001b[49m\u001b[38;5;241;43m=\u001b[39;49m\u001b[43m \u001b[49m\u001b[38;5;124;43m\"\u001b[39;49m\u001b[38;5;124;43mon.png\u001b[39;49m\u001b[38;5;124;43m\"\u001b[39;49m\u001b[43m)\u001b[49m\n\u001b[0;32m     43\u001b[0m off \u001b[38;5;241m=\u001b[39m PhotoImage(file \u001b[38;5;241m=\u001b[39m \u001b[38;5;124m\"\u001b[39m\u001b[38;5;124moff.png\u001b[39m\u001b[38;5;124m\"\u001b[39m)\n\u001b[0;32m     45\u001b[0m \u001b[38;5;66;03m# Create A Button\u001b[39;00m\n",
      "File \u001b[1;32mc:\\Users\\Smart\\AppData\\Local\\Programs\\Python\\Python312\\Lib\\tkinter\\__init__.py:4162\u001b[0m, in \u001b[0;36mPhotoImage.__init__\u001b[1;34m(self, name, cnf, master, **kw)\u001b[0m\n\u001b[0;32m   4157\u001b[0m \u001b[38;5;28;01mdef\u001b[39;00m\u001b[38;5;250m \u001b[39m\u001b[38;5;21m__init__\u001b[39m(\u001b[38;5;28mself\u001b[39m, name\u001b[38;5;241m=\u001b[39m\u001b[38;5;28;01mNone\u001b[39;00m, cnf\u001b[38;5;241m=\u001b[39m{}, master\u001b[38;5;241m=\u001b[39m\u001b[38;5;28;01mNone\u001b[39;00m, \u001b[38;5;241m*\u001b[39m\u001b[38;5;241m*\u001b[39mkw):\n\u001b[0;32m   4158\u001b[0m \u001b[38;5;250m    \u001b[39m\u001b[38;5;124;03m\"\"\"Create an image with NAME.\u001b[39;00m\n\u001b[0;32m   4159\u001b[0m \n\u001b[0;32m   4160\u001b[0m \u001b[38;5;124;03m    Valid resource names: data, format, file, gamma, height, palette,\u001b[39;00m\n\u001b[0;32m   4161\u001b[0m \u001b[38;5;124;03m    width.\"\"\"\u001b[39;00m\n\u001b[1;32m-> 4162\u001b[0m     \u001b[43mImage\u001b[49m\u001b[38;5;241;43m.\u001b[39;49m\u001b[38;5;21;43m__init__\u001b[39;49m\u001b[43m(\u001b[49m\u001b[38;5;28;43mself\u001b[39;49m\u001b[43m,\u001b[49m\u001b[43m \u001b[49m\u001b[38;5;124;43m'\u001b[39;49m\u001b[38;5;124;43mphoto\u001b[39;49m\u001b[38;5;124;43m'\u001b[39;49m\u001b[43m,\u001b[49m\u001b[43m \u001b[49m\u001b[43mname\u001b[49m\u001b[43m,\u001b[49m\u001b[43m \u001b[49m\u001b[43mcnf\u001b[49m\u001b[43m,\u001b[49m\u001b[43m \u001b[49m\u001b[43mmaster\u001b[49m\u001b[43m,\u001b[49m\u001b[43m \u001b[49m\u001b[38;5;241;43m*\u001b[39;49m\u001b[38;5;241;43m*\u001b[39;49m\u001b[43mkw\u001b[49m\u001b[43m)\u001b[49m\n",
      "File \u001b[1;32mc:\\Users\\Smart\\AppData\\Local\\Programs\\Python\\Python312\\Lib\\tkinter\\__init__.py:4109\u001b[0m, in \u001b[0;36mImage.__init__\u001b[1;34m(self, imgtype, name, cnf, master, **kw)\u001b[0m\n\u001b[0;32m   4107\u001b[0m \u001b[38;5;28;01mfor\u001b[39;00m k, v \u001b[38;5;129;01min\u001b[39;00m cnf\u001b[38;5;241m.\u001b[39mitems():\n\u001b[0;32m   4108\u001b[0m     options \u001b[38;5;241m=\u001b[39m options \u001b[38;5;241m+\u001b[39m (\u001b[38;5;124m'\u001b[39m\u001b[38;5;124m-\u001b[39m\u001b[38;5;124m'\u001b[39m\u001b[38;5;241m+\u001b[39mk, v)\n\u001b[1;32m-> 4109\u001b[0m \u001b[38;5;28;43mself\u001b[39;49m\u001b[38;5;241;43m.\u001b[39;49m\u001b[43mtk\u001b[49m\u001b[38;5;241;43m.\u001b[39;49m\u001b[43mcall\u001b[49m\u001b[43m(\u001b[49m\u001b[43m(\u001b[49m\u001b[38;5;124;43m'\u001b[39;49m\u001b[38;5;124;43mimage\u001b[39;49m\u001b[38;5;124;43m'\u001b[39;49m\u001b[43m,\u001b[49m\u001b[43m \u001b[49m\u001b[38;5;124;43m'\u001b[39;49m\u001b[38;5;124;43mcreate\u001b[39;49m\u001b[38;5;124;43m'\u001b[39;49m\u001b[43m,\u001b[49m\u001b[43m \u001b[49m\u001b[43mimgtype\u001b[49m\u001b[43m,\u001b[49m\u001b[43m \u001b[49m\u001b[43mname\u001b[49m\u001b[43m,\u001b[49m\u001b[43m)\u001b[49m\u001b[43m \u001b[49m\u001b[38;5;241;43m+\u001b[39;49m\u001b[43m \u001b[49m\u001b[43moptions\u001b[49m\u001b[43m)\u001b[49m\n\u001b[0;32m   4110\u001b[0m \u001b[38;5;28mself\u001b[39m\u001b[38;5;241m.\u001b[39mname \u001b[38;5;241m=\u001b[39m name\n",
      "\u001b[1;31mTclError\u001b[0m: couldn't open \"on.png\": no such file or directory"
     ]
    }
   ],
   "source": [
    "# Import Module\n",
    "from tkinter import *\n",
    "\n",
    "# Create Object\n",
    "root = Tk()\n",
    "\n",
    "# Add Title\n",
    "root.title('On/Off Switch!')\n",
    "\n",
    "# Add Geometry\n",
    "root.geometry(\"500x300\")\n",
    "\n",
    "# Keep track of the button state on/off\n",
    "#global is_on\n",
    "is_on = True\n",
    "\n",
    "# Create Label\n",
    "my_label = Label(root, \n",
    "\ttext = \"The Switch Is On!\", \n",
    "\tfg = \"green\", \n",
    "\tfont = (\"Helvetica\", 32))\n",
    "\n",
    "my_label.pack(pady = 20)\n",
    "\n",
    "# Define our switch function\n",
    "def switch():\n",
    "\tglobal is_on\n",
    "\t\n",
    "\t# Determine is on or off\n",
    "\tif is_on:\n",
    "\t\ton_button.config(image = off)\n",
    "\t\tmy_label.config(text = \"The Switch is Off\", \n",
    "\t\t\t\t\t\tfg = \"grey\")\n",
    "\t\tis_on = False\n",
    "\telse:\n",
    "\t\n",
    "\t\ton_button.config(image = on)\n",
    "\t\tmy_label.config(text = \"The Switch is On\", fg = \"green\")\n",
    "\t\tis_on = True\n",
    "\n",
    "# Define Our Images\n",
    "on = PhotoImage(file = \"on.png\")\n",
    "off = PhotoImage(file = \"off.png\")\n",
    "\n",
    "# Create A Button\n",
    "on_button = Button(root, image = on, bd = 0,\n",
    "\t\t\t\tcommand = switch)\n",
    "on_button.pack(pady = 50)\n",
    "\n",
    "# Execute Tkinter\n",
    "root.mainloop()\n"
   ]
  },
  {
   "cell_type": "code",
   "execution_count": null,
   "id": "3af0b1e4",
   "metadata": {},
   "outputs": [],
   "source": []
  }
 ],
 "metadata": {
  "kernelspec": {
   "display_name": "Python 3",
   "language": "python",
   "name": "python3"
  },
  "language_info": {
   "codemirror_mode": {
    "name": "ipython",
    "version": 3
   },
   "file_extension": ".py",
   "mimetype": "text/x-python",
   "name": "python",
   "nbconvert_exporter": "python",
   "pygments_lexer": "ipython3",
   "version": "3.12.4"
  }
 },
 "nbformat": 4,
 "nbformat_minor": 5
}
