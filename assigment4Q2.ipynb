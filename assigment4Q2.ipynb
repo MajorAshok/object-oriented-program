{
 "cells": [
  {
   "cell_type": "code",
   "execution_count": 1,
   "id": "2897033a",
   "metadata": {},
   "outputs": [
    {
     "name": "stdout",
     "output_type": "stream",
     "text": [
      "\"The people who succeed are irrationally passionate about something.\"\n",
      "  - Naval Ravikant\n"
     ]
    }
   ],
   "source": [
    "import requests \n",
    "\n",
    "url = 'https://zenquotes.io/api/random'\n",
    "response = requests.get(url)\n",
    "\n",
    "if response.status_code == 200:\n",
    "    quote_data = response.json()[0]\n",
    "    print(f'\"{quote_data[\"q\"]}\"')\n",
    "    print(f'  - {quote_data[\"a\"]}')\n",
    "else:\n",
    "    print(\"Failed to fetch quote.\")\n"
   ]
  },
  {
   "cell_type": "code",
   "execution_count": null,
   "id": "3c6ad3a6",
   "metadata": {},
   "outputs": [],
   "source": []
  }
 ],
 "metadata": {
  "kernelspec": {
   "display_name": "Python 3",
   "language": "python",
   "name": "python3"
  },
  "language_info": {
   "codemirror_mode": {
    "name": "ipython",
    "version": 3
   },
   "file_extension": ".py",
   "mimetype": "text/x-python",
   "name": "python",
   "nbconvert_exporter": "python",
   "pygments_lexer": "ipython3",
   "version": "3.12.4"
  }
 },
 "nbformat": 4,
 "nbformat_minor": 5
}
