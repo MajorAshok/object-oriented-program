{
 "cells": [
  {
   "cell_type": "code",
   "execution_count": 2,
   "id": "2897033a",
   "metadata": {},
   "outputs": [
    {
     "name": "stdout",
     "output_type": "stream",
     "text": [
      "\"Make no small plans for they have no power to stir the soul.\"\n",
      "  - Niccolo Machiavelli\n"
     ]
    }
   ],
   "source": [
    "import requests \n",
    "\n",
    "url = 'https://zenquotes.io/api/random'\n",
    "response = requests.get(url)\n",
    "\n",
    "if response.status_code == 200:\n",
    "    quote_data = response.json()[0]\n",
    "    print(f'\"{quote_data[\"q\"]}\"')\n",
    "    print(f'  - {quote_data[\"a\"]}')\n",
    "else:\n",
    "    print(\"Failed to fetch quote.\")\n"
   ]
  },
  {
   "cell_type": "code",
   "execution_count": 9,
   "id": "9f1a4aad",
   "metadata": {},
   "outputs": [
    {
     "name": "stdout",
     "output_type": "stream",
     "text": [
      "Status code: 200\n",
      "Raw Content: <!DOCTYPE html>\n",
      "<html lang=\"en\">\n",
      "  <head>\n",
      "    <meta charset=\"utf-8\">\n",
      "    <meta name=\"referrer\" content=\"origin-when-cross-origin\">\n",
      "    <script>//<![CDATA[\n",
      "      var s = false;\n",
      "      function l() {\n",
      "        setTimeout(f, 10000);\n",
      "        if (document.referrer) {\n",
      "          try {\n",
      "            var pm = /(^|&|\\?)px=([^&]*)(&|$)/i;\n",
      "            var px = window.location.href.match(pm);\n",
      "            var rs = document.referrer;\n",
      "            if (px != null) {\n",
      "              if (rs.match(pm))\n",
      "                rs = rs.replace(pm, \"$1px=\" + px[2] + \"$3\");\n",
      "              else if (rs.indexOf(\"?\") != -1)\n",
      "                rs = rs + \"&px=\" + px[2];\n",
      "              else\n",
      "                rs = rs + \"?px=\" + px[2];\n",
      "            }\n",
      "            history.replaceState({}, \"Bing\", rs);\n",
      "            window.addEventListener(\"pageshow\", function(e) { if (e.persisted || (typeof window.performance != \"undefined\" && window.performance.navigation.type === 2)) window.location.reload(); });\n",
      "            s = true;\n",
      "            setTimeout(r, 10);\n",
      "            return;\n",
      "          } catch (e) {}\n",
      "        }\n",
      "        r();\n",
      "      }\n",
      "      function r() {\n",
      "        var u = \"https://sanskritslokas.com/gita-slokas3.html\";\n",
      "        if (s)\n",
      "          window.location.href = u;\n",
      "        else\n",
      "          window.location.replace(u);\n",
      "      }\n",
      "      function f() {\n",
      "        document.getElementById(\"fb\").style.display = \"block\";\n",
      "      }\n",
      "      //]]>\n",
      "    </script>\n",
      "  </head>\n",
      "  <body onload=\"l()\">\n",
      "    <div id=\"fb\" style=\"display: none\">\n",
      "      Please <a href=\"https://www.bing.com/ck/a?!&&p=162d90ce06e3e6755d22e64838e83f985360783355ff8cb11555d1f622aa7fa0JmltdHM9MTc0NTAyMDgwMA&ptn=3&ver=2&hsh=4&fclid=1b7f2262-e461-6324-125c-3710e5746290&psq=bhagavad+gita+slokas+in+sanskrit&u=a1aHR0cHM6Ly9zYW5za3JpdHNsb2thcy5jb20vZ2l0YS1zbG9rYXMzLmh0bWw&ntb=F\">click here</a> if the page does not redirect automatically ...\n",
      "    </div>\n",
      "  </body>\n",
      "</html>\n",
      "Error decoding JSON:  Expecting value: line 1 column 1 (char 0)\n"
     ]
    }
   ],
   "source": [
    "url='https://www.bing.com/ck/a?!&&p=162d90ce06e3e6755d22e64838e83f985360783355ff8cb11555d1f622aa7fa0JmltdHM9MTc0NTAyMDgwMA&ptn=3&ver=2&hsh=4&fclid=1b7f2262-e461-6324-125c-3710e5746290&psq=bhagavad+gita+slokas+in+sanskrit&u=a1aHR0cHM6Ly9zYW5za3JpdHNsb2thcy5jb20vZ2l0YS1zbG9rYXMzLmh0bWw&ntb=1'\n",
    "response=requests.get(url)\n",
    "print(\"Status code:\",response.status_code)\n",
    "print(\"Raw Content:\",response.text)\n",
    "if response.status_code==200:\n",
    "    try:\n",
    "        slok_data = response.json()\n",
    "        print(\"Slok (Sanskrit):\",slok_data['slok'])\n",
    "        print(\"Translation (Hindi):\",slok_data['tej']['ht'])\n",
    "    except Exception as e:\n",
    "        print(\"Error decoding JSON: \",e)\n",
    "else:\n",
    "    print('Failed to fetch.HTTP Status:',response.status_code)"
   ]
  },
  {
   "cell_type": "code",
   "execution_count": null,
   "id": "3c6ad3a6",
   "metadata": {},
   "outputs": [],
   "source": []
  }
 ],
 "metadata": {
  "kernelspec": {
   "display_name": "Python 3",
   "language": "python",
   "name": "python3"
  },
  "language_info": {
   "codemirror_mode": {
    "name": "ipython",
    "version": 3
   },
   "file_extension": ".py",
   "mimetype": "text/x-python",
   "name": "python",
   "nbconvert_exporter": "python",
   "pygments_lexer": "ipython3",
   "version": "3.12.4"
  }
 },
 "nbformat": 4,
 "nbformat_minor": 5
}
