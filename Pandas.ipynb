{
 "cells": [
  {
   "cell_type": "code",
   "execution_count": 2,
   "id": "bbeea51f",
   "metadata": {},
   "outputs": [
    {
     "name": "stdout",
     "output_type": "stream",
     "text": [
      "      name  age   city\n",
      "0    Ashok   20  satna\n",
      "1   Mukesh   23  satna\n",
      "2  krishna   19  katni\n"
     ]
    }
   ],
   "source": [
    "# How to Make and read CSV file in python.\n",
    "\"\"\"File created in notepad,saved in this folder\"\"\"\n",
    "import pandas as pd\n",
    "csv_file=pd.read_csv('data.csv')\n",
    "print(csv_file)\n",
    "\n",
    " "
   ]
  },
  {
   "cell_type": "code",
   "execution_count": null,
   "id": "d99e813b",
   "metadata": {},
   "outputs": [],
   "source": [
    "# Read JSON file \n",
    "json_file=pd.read_json('data2.json')\n",
    "print(json_file)"
   ]
  }
 ],
 "metadata": {
  "kernelspec": {
   "display_name": "Python 3",
   "language": "python",
   "name": "python3"
  },
  "language_info": {
   "codemirror_mode": {
    "name": "ipython",
    "version": 3
   },
   "file_extension": ".py",
   "mimetype": "text/x-python",
   "name": "python",
   "nbconvert_exporter": "python",
   "pygments_lexer": "ipython3",
   "version": "3.12.4"
  }
 },
 "nbformat": 4,
 "nbformat_minor": 5
}
