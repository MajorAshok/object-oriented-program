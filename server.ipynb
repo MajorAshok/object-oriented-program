{
 "cells": [
  {
   "cell_type": "code",
   "execution_count": null,
   "id": "a196aaa7",
   "metadata": {},
   "outputs": [
    {
     "name": "stdout",
     "output_type": "stream",
     "text": [
      "Server listening on 127.0.0.1: 12345...\n"
     ]
    }
   ],
   "source": [
    "import socket\n",
    "\n",
    "server_socket=socket.socket(socket.AF_INET,socket.SOCK_STREAM)\n",
    "\n",
    "host='127.0.0.1'\n",
    "port=12345\n",
    "\n",
    "server_socket.bind((host,port))\n",
    "\n",
    "\n",
    "server_socket.listen(1)\n",
    "print(f\"Server listening on {host}: {port}...\")\n",
    "\n",
    "\n",
    "client_socket, addr = server_socket.accept()\n",
    "print(f\"Connected to {addr}\")\n",
    "\n",
    "\n",
    "data=client_socket.recv(1024).decode()\n",
    "print(f\"Recieved from client: {data}\")\n",
    "\n",
    "\n",
    "client_socket.send(\"Hello from server!\".encode())\n",
    "\n",
    "\n",
    "client_socket.close()\n",
    "server_socket.close()"
   ]
  },
  {
   "cell_type": "code",
   "execution_count": null,
   "id": "f40fc581",
   "metadata": {},
   "outputs": [],
   "source": []
  }
 ],
 "metadata": {
  "kernelspec": {
   "display_name": "Python 3",
   "language": "python",
   "name": "python3"
  },
  "language_info": {
   "codemirror_mode": {
    "name": "ipython",
    "version": 3
   },
   "file_extension": ".py",
   "mimetype": "text/x-python",
   "name": "python",
   "nbconvert_exporter": "python",
   "pygments_lexer": "ipython3",
   "version": "3.12.4"
  }
 },
 "nbformat": 4,
 "nbformat_minor": 5
}
