{
  "nbformat": 4,
  "nbformat_minor": 0,
  "metadata": {
    "colab": {
      "provenance": [],
      "authorship_tag": "ABX9TyOfqkEApAipMQDtjK8pJnpL",
      "include_colab_link": true
    },
    "kernelspec": {
      "name": "python3",
      "display_name": "Python 3"
    },
    "language_info": {
      "name": "python"
    }
  },
  "cells": [
    {
      "cell_type": "markdown",
      "metadata": {
        "id": "view-in-github",
        "colab_type": "text"
      },
      "source": [
        "<a href=\"https://colab.research.google.com/github/MajorAshok/object-oriented-program/blob/main/OOPsPrograms.ipynb\" target=\"_parent\"><img src=\"https://colab.research.google.com/assets/colab-badge.svg\" alt=\"Open In Colab\"/></a>"
      ]
    },
    {
      "cell_type": "markdown",
      "source": [
        "***Creating class and object in Python***\n",
        "\n"
      ],
      "metadata": {
        "id": "NgDcS8mNjxWP"
      }
    },
    {
      "cell_type": "code",
      "source": [
        "# Program to check the inputed no. Is positive or negative\n",
        "num=int(input(\"Enter a number: \"))\n",
        "if num==0:\n",
        "    print(\"Number is zero\")\n",
        "elif num>0:\n",
        "    print(\"Number is positive \")\n",
        "else:\n",
        "    print(\"Number is negative\")"
      ],
      "metadata": {
        "id": "68euhrjKWS9n",
        "colab": {
          "base_uri": "https://localhost:8080/"
        },
        "outputId": "1b50946e-ed69-4895-e85c-c05af9c10586"
      },
      "execution_count": null,
      "outputs": [
        {
          "output_type": "stream",
          "name": "stdout",
          "text": [
            "Enter a number: -5\n",
            "Number is negative\n"
          ]
        }
      ]
    },
    {
      "cell_type": "code",
      "execution_count": null,
      "metadata": {
        "colab": {
          "base_uri": "https://localhost:8080/"
        },
        "id": "CjilCKpJqQBB",
        "outputId": "7af42090-a4fd-47de-b9bb-15a469f56eda"
      },
      "outputs": [
        {
          "output_type": "stream",
          "name": "stdout",
          "text": [
            "Ashok\n"
          ]
        }
      ],
      "source": [
        "class A:\n",
        "  Name = \"Ashok\"\n",
        "obj1=A()\n",
        "print(obj1.Name)"
      ]
    },
    {
      "cell_type": "code",
      "source": [
        "class A :\n",
        "   def Add(self, a, b) :\n",
        "       return(a+b)\n",
        "obj =A()\n",
        "C=obj.Add(int(input(\"No.1 \")), int(input(\"No.2 \")))\n",
        "print(C)"
      ],
      "metadata": {
        "colab": {
          "base_uri": "https://localhost:8080/"
        },
        "id": "ta7cWegDhA37",
        "outputId": "dd23fb1d-5b93-40b4-fb96-bbcea15ea7f9"
      },
      "execution_count": null,
      "outputs": [
        {
          "output_type": "stream",
          "name": "stdout",
          "text": [
            "No.1 30\n",
            "No.2 40\n",
            "70\n"
          ]
        }
      ]
    },
    {
      "cell_type": "code",
      "source": [
        "class A:\n",
        "  def Add(self, a, b):\n",
        "    print(a+b)\n",
        "obj1=A()\n",
        "obj1.Add(51, 36)"
      ],
      "metadata": {
        "colab": {
          "base_uri": "https://localhost:8080/"
        },
        "id": "rih056bYreL-",
        "outputId": "67e6a2e0-b568-4f7d-8c1d-e792e24ed145"
      },
      "execution_count": null,
      "outputs": [
        {
          "output_type": "stream",
          "name": "stdout",
          "text": [
            "87\n"
          ]
        }
      ]
    },
    {
      "cell_type": "code",
      "source": [
        "class A:\n",
        "  a=20\n",
        "  b=30\n",
        "  def Add(self, a):\n",
        "      print(self.a)\n",
        "      print(a)\n",
        "\n",
        "obj1=A()\n",
        "obj1.Add(30)"
      ],
      "metadata": {
        "colab": {
          "base_uri": "https://localhost:8080/"
        },
        "id": "PStj-IX7vl4U",
        "outputId": "2e87389f-99e2-469b-d2cd-c564fab8c29c"
      },
      "execution_count": null,
      "outputs": [
        {
          "output_type": "stream",
          "name": "stdout",
          "text": [
            "20\n",
            "30\n"
          ]
        }
      ]
    },
    {
      "cell_type": "code",
      "source": [
        "class formula:\n",
        "      def calc(self, a, b):\n",
        "          return(a*a+b*b+int(2)*a*b)\n",
        "obj=formula()\n",
        "C=obj.calc(int(input(\"No.1 \")), int(input(\"No.2 \")))\n",
        "print(C)"
      ],
      "metadata": {
        "colab": {
          "base_uri": "https://localhost:8080/"
        },
        "id": "GW_mM6mWiQcU",
        "outputId": "e0dc73b8-3a74-42f5-c338-a128c6e078c3"
      },
      "execution_count": null,
      "outputs": [
        {
          "output_type": "stream",
          "name": "stdout",
          "text": [
            "No.1 9\n",
            "No.2 3\n",
            "144\n"
          ]
        }
      ]
    },
    {
      "cell_type": "markdown",
      "source": [
        "***CONSTRUCTOR:***\n",
        "    **Default constructor**"
      ],
      "metadata": {
        "id": "dFA8MuVmkcIV"
      }
    },
    {
      "cell_type": "code",
      "source": [
        "class A:\n",
        "    name=\"\"\n",
        "    def __init__(self):\n",
        "        print(\"Constructor called\")\n",
        "        self.name=\"Ram\"\n",
        "    def show(self):\n",
        "        print(f'Name:{self.name}')\n",
        "obj=A()\n",
        "obj. show()"
      ],
      "metadata": {
        "colab": {
          "base_uri": "https://localhost:8080/"
        },
        "id": "Xz3eE_qIlvKD",
        "outputId": "51d642e0-04f2-4e89-fde4-122778a6c373"
      },
      "execution_count": null,
      "outputs": [
        {
          "output_type": "stream",
          "name": "stdout",
          "text": [
            "Constructor called\n",
            "Name:Ram\n"
          ]
        }
      ]
    },
    {
      "cell_type": "markdown",
      "source": [
        "**Paramaterized constructor**"
      ],
      "metadata": {
        "id": "ttXxPCigk8pJ"
      }
    },
    {
      "cell_type": "code",
      "source": [
        "# simple Intrest calculator(paramatrized constructor):\n",
        "class Account:\n",
        "     SI=\"\"\n",
        "     def __init__(self,p, r, t) :\n",
        "         self. SI=p*r*t/100\n",
        "     def show(self):\n",
        "         print(f' Simple intrest is:{self.SI}')\n",
        "obj=Account(1000,10,1)\n",
        "obj.show()"
      ],
      "metadata": {
        "colab": {
          "base_uri": "https://localhost:8080/"
        },
        "id": "T4SLaRckow5B",
        "outputId": "0fd05e54-eaa2-4134-897f-35350f0b9e98"
      },
      "execution_count": null,
      "outputs": [
        {
          "output_type": "stream",
          "name": "stdout",
          "text": [
            " Simple intrest is:100.0\n"
          ]
        }
      ]
    },
    {
      "cell_type": "code",
      "source": [
        "#03. Area and perimeter of rectangle\n",
        "class Rectangle:\n",
        "   def area(self,length,width):\n",
        "       Area=length*width\n",
        "       print(f'Area of rectangle is: {Area}')\n",
        "   def peri(self,length,width):\n",
        "       perimeter=2*(length+width)\n",
        "       print(f'Perimeter of rectangle is: {perimeter}')\n",
        "obj1=Rectangle()\n",
        "peri=obj1.peri(int(input(\"Enter length: \")),int(input(\"Enter width: \")))\n",
        "print(peri)"
      ],
      "metadata": {
        "colab": {
          "base_uri": "https://localhost:8080/"
        },
        "id": "rC6tFSkncxGJ",
        "outputId": "d3073b5d-e69f-492b-f0c7-d7bbfc9b3322"
      },
      "execution_count": null,
      "outputs": [
        {
          "output_type": "stream",
          "name": "stdout",
          "text": [
            "Enter length: 4\n",
            "Enter width: 5\n",
            "Perimeter of rectangle is: 18\n",
            "None\n"
          ]
        }
      ]
    },
    {
      "cell_type": "code",
      "source": [
        "#04. Temperature Converter\n",
        "class tempconverter:\n",
        "   formula=\"\"\n",
        "   def celcius(self,F):\n",
        "       self.formula=(F-32)*5/9\n",
        "       print(f'{F} fahrenheit in degree celcius is -- {self.formula}')\n",
        "   def ferenhite(self,C):\n",
        "       self.formula=(C*9/5)+32\n",
        "       print(f'{C} degree celcius in fahrenheit is: {self.formula}')\n",
        "\n",
        "obj2=tempconverter()\n",
        "obj2.ferenhite(37)\n",
        "obj2.celcius(98)"
      ],
      "metadata": {
        "colab": {
          "base_uri": "https://localhost:8080/"
        },
        "id": "10Cb4bNOfUyD",
        "outputId": "4309ef2a-037d-4a62-ea00-6cfdb2c170a4"
      },
      "execution_count": null,
      "outputs": [
        {
          "output_type": "stream",
          "name": "stdout",
          "text": [
            "37 degree celcius in fahrenheit is: 98.6\n",
            "98 fahrenheit in degree celcius is -- 36.666666666666664\n"
          ]
        }
      ]
    },
    {
      "cell_type": "code",
      "source": [
        "#05. Depositing And Withdrawing Money\n",
        "class bankaccount:\n",
        "   Ammount=\"\"\n",
        "   def deposite(self):\n",
        "       self.Ammount=int(input(\"Your Ammount \"))\n",
        "       print(f'{self.Ammount}₹ has been deposited in your bank account.')\n",
        "   def withdraw(self):\n",
        "       self.Ammount=int(input(\"Your Ammount \"))\n",
        "       print(f'{self.Ammount}₹ has been withdrawn from your bank account.')\n",
        "obj3=bankaccount()\n",
        "obj3.deposite()\n",
        "obj3.withdraw()"
      ],
      "metadata": {
        "colab": {
          "base_uri": "https://localhost:8080/"
        },
        "id": "IqRaIdU9oUcy",
        "outputId": "00d15f90-6a69-4fb4-eea1-cf5394f478a1"
      },
      "execution_count": null,
      "outputs": [
        {
          "output_type": "stream",
          "name": "stdout",
          "text": [
            "Your Ammount 45\n",
            "45₹ has been deposited in your bank account.\n",
            "Your Ammount 32\n",
            "32₹ has been withdrawn from your bank account.\n"
          ]
        }
      ]
    },
    {
      "cell_type": "code",
      "source": [
        "#06. Caclulating Area and circumfrence of circle.\n",
        "class circle:\n",
        "   def area(self,radius):\n",
        "       self.area=3.14*radius*radius\n",
        "       print(f'Area of circle is: {self.area}')\n",
        "   def circu(self,radius):\n",
        "       self.circum=2*3.14*radius\n",
        "       print(f'Circumference of circle is: {self.circum}')\n",
        "objt=circle()\n",
        "radius=int(input(\"Enter radius: \"))\n",
        "objt.area(radius)\n",
        "objt.circu(radius)"
      ],
      "metadata": {
        "id": "QKza8P-jsw-o",
        "colab": {
          "base_uri": "https://localhost:8080/"
        },
        "outputId": "01b23122-6055-4831-eee1-dbac6aa730c5"
      },
      "execution_count": null,
      "outputs": [
        {
          "output_type": "stream",
          "name": "stdout",
          "text": [
            "Enter radius: 4\n",
            "Area of circle is: 50.24\n",
            "Circumference of circle is: 25.12\n"
          ]
        }
      ]
    },
    {
      "cell_type": "code",
      "source": [
        "#07. Calculate the average grade:\n",
        "class Student:\n",
        "    def __init__(self, name, marks):\n",
        "        self.name = name\n",
        "        self.marks = marks\n",
        "\n",
        "    def calculate_average(self):\n",
        "        total_marks = sum(self.marks)\n",
        "        number_of_subjects = len(self.marks)\n",
        "        average = total_marks / number_of_subjects\n",
        "        return average\n",
        "\n",
        "# Example usage\n",
        "student = Student(\"Aarav\", [85, 90, 78, 92, 88])\n",
        "average_grade = student.calculate_average()\n",
        "print(f\"{student.name}'s average grade is: {average_grade:.2f}\")"
      ],
      "metadata": {
        "id": "BD-3S8bbyB-o",
        "outputId": "1d439afa-a530-481a-971a-533721d86855",
        "colab": {
          "base_uri": "https://localhost:8080/"
        }
      },
      "execution_count": null,
      "outputs": [
        {
          "output_type": "stream",
          "name": "stdout",
          "text": [
            "Aarav's average grade is: 86.60\n"
          ]
        }
      ]
    },
    {
      "cell_type": "code",
      "source": [
        "#8. Time convertor\n",
        "class timeconv:\n",
        "    def __init__(self,hour,minute):\n",
        "        self.hour=hour\n",
        "        self.minute=minute\n",
        "    def HtoM(self):\n",
        "        print(f'{self.hour}h:{self.minute}m in minute is: {int(self.hour)*60+self.minute} minute')\n",
        "    def MtoH(self):\n",
        "        print(f'{self.hour}h:{self.minute}m in Hour is: {int(self.minute)/60+self.hour} hour')\n",
        "obj=timeconv(3,45)\n",
        "obj.MtoH()\n",
        "obj.HtoM()"
      ],
      "metadata": {
        "colab": {
          "base_uri": "https://localhost:8080/"
        },
        "id": "5GW9iQmQWjg6",
        "outputId": "540cf7a9-ce78-46e2-cae3-6c26965145b5"
      },
      "execution_count": null,
      "outputs": [
        {
          "output_type": "stream",
          "name": "stdout",
          "text": [
            "3h:45m in Hour is: 3.75 hour\n",
            "3h:45m in minute is: 225 minute\n"
          ]
        }
      ]
    },
    {
      "cell_type": "code",
      "source": [
        "#09. loan calculator:\n",
        "class loancalculator:\n",
        "  def __init__(self,principal,rate,time):\n",
        "      self.principal=int(principal)\n",
        "      self.rate=int(rate)/12  # r is annual to convert it as monthly rate we have to devide it 12.\n",
        "      self.time=int(time)*12  # no. of payment per month.\n",
        "  def __str__(self):\n",
        "      return f'MOnthly loan you have to pay is: {int(self.principal*self.rate*(1+self.rate)**self.time/(1+self.rate)**(self.time-1))}'\n",
        "MOnthly=loancalculator(input(\"Enter Your Priniciple ammount: \"),input(\"Enter annual rate: \"),input(\"Enter time: \"))\n",
        "print(MOnthly)\n"
      ],
      "metadata": {
        "colab": {
          "base_uri": "https://localhost:8080/"
        },
        "id": "AtpLyqjZaARM",
        "outputId": "1da306e2-a136-47b6-8de1-b6ce4742311e"
      },
      "execution_count": null,
      "outputs": [
        {
          "output_type": "stream",
          "name": "stdout",
          "text": [
            "Enter Your Priniciple ammount:  45\n",
            "Enter annual rate: 54\n",
            "Enter time: 4\n",
            "MOnthly loan you have to pay is: 1113\n"
          ]
        }
      ]
    },
    {
      "cell_type": "code",
      "source": [
        "#10. Calculating salary;\n",
        "class salarycalculator:\n",
        "  def __init__(self,basic):\n",
        "      self.basic=int(basic)\n",
        "  def Allowances(self,HRA,TA,MA):\n",
        "      self.HRA=int(HRA)\n",
        "      self.TA=int(TA)\n",
        "      self.MA=int(MA)\n",
        "  def deductions(self,Taxes,PF,LIC):\n",
        "      self.Taxes=int(Taxes)\n",
        "      self.PF=int(PF)\n",
        "      self.LIC=int(LIC)\n",
        "  def __str__(self):\n",
        "      return f'Your salary is: {self.basic+self.HRA+self.TA+self.MA-self.Taxes-self.PF-self.LIC}'\n",
        "EmployeeSalary=salarycalculator(int(input(\"Enter your basic salary: \")))\n",
        "EmployeeSalary.Allowances(int(input(\"Enter HRA: \")),int(input(\"Enter TA: \")),int(input(\"Enter MA: \")))\n",
        "EmployeeSalary.deductions(int(input(\"Enter Taxes: \")),int(input(\"Enter PF: \")),int(input(\"Enter LIC: \")))\n",
        "print(EmployeeSalary)\n",
        "\n"
      ],
      "metadata": {
        "colab": {
          "base_uri": "https://localhost:8080/"
        },
        "id": "t2sylpYG4Pmh",
        "outputId": "b74776e5-b807-4868-bdce-a5f7fbaad104"
      },
      "execution_count": null,
      "outputs": [
        {
          "output_type": "stream",
          "name": "stdout",
          "text": [
            "Enter your basic salary: 50000\n",
            "Enter HRA: 2000\n",
            "Enter TA: 1050\n",
            "Enter MA: 1200\n",
            "Enter Taxes:  119\n",
            "Enter PF: 700\n",
            "Enter LIC: 650\n",
            "Your salary is: 52781\n"
          ]
        }
      ]
    },
    {
      "cell_type": "markdown",
      "source": [
        "***Object As A String:***"
      ],
      "metadata": {
        "id": "FajWTwL8xSrv"
      }
    },
    {
      "cell_type": "code",
      "source": [
        "class person:\n",
        "  def __init__(self, name, dob) :\n",
        "        self.name=name\n",
        "        self. dob=dob\n",
        "P1=person('Ram', '9/03/1982')\n",
        "print(P1) # this will give object refrence"
      ],
      "metadata": {
        "colab": {
          "base_uri": "https://localhost:8080/"
        },
        "id": "DNL74IJjumWe",
        "outputId": "268cd4ed-5626-4522-f1f8-0f659e92438b"
      },
      "execution_count": null,
      "outputs": [
        {
          "output_type": "stream",
          "name": "stdout",
          "text": [
            "<__main__.person object at 0x797ec255d210>\n"
          ]
        }
      ]
    },
    {
      "cell_type": "code",
      "source": [
        "# To use object as string __str__ methode :\n",
        "class person:\n",
        "     def __init__(self, name, dob) :\n",
        "         self. name=name\n",
        "         self.dob=dob\n",
        "     def __str__(self):\n",
        "         return f'Name: {self.name}, Date of Birth: {self.dob}'\n",
        "P1=person ('Ram', '9/03/1982')\n",
        "print(P1)"
      ],
      "metadata": {
        "colab": {
          "base_uri": "https://localhost:8080/"
        },
        "id": "CdjnYh3ixbvv",
        "outputId": "8fd1c7f0-42fe-4457-bef5-abfeede8bd8e"
      },
      "execution_count": null,
      "outputs": [
        {
          "output_type": "stream",
          "name": "stdout",
          "text": [
            "Name: Ram, Date of Birth: 9/03/1982\n"
          ]
        }
      ]
    },
    {
      "cell_type": "markdown",
      "source": [
        "***Use of del function :***"
      ],
      "metadata": {
        "id": "toc8fYb8yHhB"
      }
    },
    {
      "cell_type": "code",
      "source": [
        "# Employee Detail.\n",
        "class Employee:\n",
        "  def __init__(self,name,ID,Salary):\n",
        "    self.name=name\n",
        "    self.ID=ID\n",
        "    self.Salary=Salary\n",
        "  def __str__(self):\n",
        "    return f' Name: {self.name}, ID: {self.ID}, Salary: {self.Salary}\\n'\n",
        "Employee1=Employee('Ashok','1031','10000000')\n",
        "Employee2=Employee('Natnagar','1004','100000')\n",
        "Employee3=Employee('Ishant','1003','100000')\n",
        "print(Employee1)\n",
        "print(Employee2)\n",
        "print(Employee3)\n",
        "# del Employee.ID\n",
        "#print(Employee1)"
      ],
      "metadata": {
        "colab": {
          "base_uri": "https://localhost:8080/"
        },
        "id": "nomzUeaxyL61",
        "outputId": "798d9508-b4b3-42d1-9ff1-a8bdb45edeec"
      },
      "execution_count": null,
      "outputs": [
        {
          "output_type": "stream",
          "name": "stdout",
          "text": [
            " Name: Ashok, ID: 1031, Salary: 10000000\n",
            "\n",
            " Name: Natnagar, ID: 1004, Salary: 100000\n",
            "\n",
            " Name: Ishant, ID: 1003, Salary: 100000\n",
            "\n"
          ]
        }
      ]
    },
    {
      "cell_type": "code",
      "source": [
        "  # Factorial program using class and object:\n",
        "class Factorial:\n",
        "    fact=\"\"\n",
        "    def __init__(self,n):\n",
        "      self.fact=1\n",
        "      for i in range(1,n+1):\n",
        "        self.fact=self.fact*i\n",
        "    def __str__(self):\n",
        "      return f'factorial of {n} is:{self.fact}'\n",
        "n=int(input(\"Enter a number: \"))\n",
        "obj=Factorial(n)\n",
        "print(obj)"
      ],
      "metadata": {
        "colab": {
          "base_uri": "https://localhost:8080/"
        },
        "id": "HTfHaN9g49K1",
        "outputId": "e1aaa4bb-5ef1-4831-d1c6-099559d2db5d"
      },
      "execution_count": null,
      "outputs": [
        {
          "output_type": "stream",
          "name": "stdout",
          "text": [
            "Enter a number: 3\n",
            "factorial of 3 is:6\n"
          ]
        }
      ]
    },
    {
      "cell_type": "markdown",
      "source": [
        "**Deleting objects & it attributes**"
      ],
      "metadata": {
        "id": "xCAc1i3Kg2e5"
      }
    },
    {
      "cell_type": "code",
      "source": [
        "class A:\n",
        "   X=10\n",
        "   y=20\n",
        "obj=A()\n",
        "print(obj.X)\n",
        "del obj.y"
      ],
      "metadata": {
        "colab": {
          "base_uri": "https://localhost:8080/",
          "height": 297
        },
        "id": "BFxV1cylkmqG",
        "outputId": "6f14eb8e-fd50-4edc-feff-b9f221934fd9"
      },
      "execution_count": null,
      "outputs": [
        {
          "output_type": "stream",
          "name": "stdout",
          "text": [
            "10\n"
          ]
        },
        {
          "output_type": "error",
          "ename": "AttributeError",
          "evalue": "'A' object has no attribute 'y'",
          "traceback": [
            "\u001b[0;31m---------------------------------------------------------------------------\u001b[0m",
            "\u001b[0;31mAttributeError\u001b[0m                            Traceback (most recent call last)",
            "\u001b[0;32m<ipython-input-5-c55b6ef6f90b>\u001b[0m in \u001b[0;36m<cell line: 0>\u001b[0;34m()\u001b[0m\n\u001b[1;32m      4\u001b[0m \u001b[0mobj\u001b[0m\u001b[0;34m=\u001b[0m\u001b[0mA\u001b[0m\u001b[0;34m(\u001b[0m\u001b[0;34m)\u001b[0m\u001b[0;34m\u001b[0m\u001b[0;34m\u001b[0m\u001b[0m\n\u001b[1;32m      5\u001b[0m \u001b[0mprint\u001b[0m\u001b[0;34m(\u001b[0m\u001b[0mobj\u001b[0m\u001b[0;34m.\u001b[0m\u001b[0mX\u001b[0m\u001b[0;34m)\u001b[0m\u001b[0;34m\u001b[0m\u001b[0;34m\u001b[0m\u001b[0m\n\u001b[0;32m----> 6\u001b[0;31m \u001b[0;32mdel\u001b[0m \u001b[0mobj\u001b[0m\u001b[0;34m.\u001b[0m\u001b[0my\u001b[0m\u001b[0;34m\u001b[0m\u001b[0;34m\u001b[0m\u001b[0m\n\u001b[0m",
            "\u001b[0;31mAttributeError\u001b[0m: 'A' object has no attribute 'y'"
          ]
        }
      ]
    },
    {
      "cell_type": "markdown",
      "source": [
        "**Destructor:** '__del__' methode is used."
      ],
      "metadata": {
        "id": "8Af9nCYthNnr"
      }
    },
    {
      "cell_type": "code",
      "source": [
        "class A:\n",
        "    def __init__(self):\n",
        "        print('Constructor is called')\n",
        "    def __del__(self) :\n",
        "        print('Destructor is called')\n",
        "obj4=A()\n",
        "obj5=A()\n",
        "del obj5, obj4"
      ],
      "metadata": {
        "colab": {
          "base_uri": "https://localhost:8080/"
        },
        "id": "w733xzCiljzr",
        "outputId": "51a83319-c570-4358-87a9-92670254971d"
      },
      "execution_count": null,
      "outputs": [
        {
          "output_type": "stream",
          "name": "stdout",
          "text": [
            "Constructor is called\n",
            "Constructor is called\n",
            "Destructor is called\n",
            "Destructor is called\n"
          ]
        }
      ]
    },
    {
      "cell_type": "markdown",
      "source": [
        "**Array Of Objects**"
      ],
      "metadata": {
        "id": "43J5ZFp6hU0a"
      }
    },
    {
      "cell_type": "code",
      "source": [
        "class Person:\n",
        "    def __init__(self, name,rollno):\n",
        "        self.rollno=rollno\n",
        "        self.name=name\n",
        "Lst=[]\n",
        "Lst.append(Person('Ram', 1001))\n",
        "Lst. append(Person('John', 1002))\n",
        "Lst. append(Person('Smith', 1003))\n",
        "print(Lst[0].name)\n",
        "print(Lst[1].name)\n",
        "print(Lst[2].rollno)"
      ],
      "metadata": {
        "colab": {
          "base_uri": "https://localhost:8080/"
        },
        "id": "n4KyfdPBnf1s",
        "outputId": "3e71aa0b-957d-4714-8d65-c16814d0d204"
      },
      "execution_count": null,
      "outputs": [
        {
          "output_type": "stream",
          "name": "stdout",
          "text": [
            "Ram\n",
            "John\n",
            "1003\n"
          ]
        }
      ]
    },
    {
      "cell_type": "markdown",
      "source": [
        "**Array of object X object as string**"
      ],
      "metadata": {
        "id": "cvs1Dq3BhlTz"
      }
    },
    {
      "cell_type": "code",
      "source": [
        "class Student:\n",
        "  def __init__(self,Name,ID,SGPA):\n",
        "    self.name=Name\n",
        "    self.ID=ID\n",
        "    self.SGPA=SGPA\n",
        "  def __str__(self):\n",
        "    return f'Name: {self.name}, ID: {self.ID}, SGPA: {self.SGPA}\\n'\n",
        "Lst=[]\n",
        "Lst.append(Student('Ashok', 1001, 9.5))\n",
        "Lst.append(Student('Natnagar', 1002, 9.0))\n",
        "Lst.append(Student('Ishant', 1003, 8.5))\n",
        "print(Lst[0].name)\n",
        "print(Lst[1].name)\n",
        "print(Lst[2].name)\n",
        "print()\n",
        "print(Lst[0])\n",
        "print(Lst[1])\n",
        "print(Lst[2])"
      ],
      "metadata": {
        "colab": {
          "base_uri": "https://localhost:8080/"
        },
        "id": "hgmtRhK8hh-5",
        "outputId": "39b57300-dd3c-4506-fb79-1552978f9026"
      },
      "execution_count": null,
      "outputs": [
        {
          "output_type": "stream",
          "name": "stdout",
          "text": [
            "Ashok\n",
            "Natnagar\n",
            "Ishant\n",
            "\n",
            "Name: Ashok, ID: 1001, SGPA: 9.5\n",
            "\n",
            "Name: Natnagar, ID: 1002, SGPA: 9.0\n",
            "\n",
            "Name: Ishant, ID: 1003, SGPA: 8.5\n",
            "\n"
          ]
        }
      ]
    },
    {
      "cell_type": "code",
      "source": [
        "a=10\n",
        "b=a\n",
        "a=30\n",
        "print(a)\n",
        "print(b)"
      ],
      "metadata": {
        "id": "CD0txLLJi11i",
        "colab": {
          "base_uri": "https://localhost:8080/"
        },
        "outputId": "64628a0e-d57d-47b0-fd68-9f6247b6e53e"
      },
      "execution_count": null,
      "outputs": [
        {
          "output_type": "stream",
          "name": "stdout",
          "text": [
            "30\n",
            "10\n"
          ]
        }
      ]
    },
    {
      "cell_type": "code",
      "source": [
        "class A:\n",
        "    def show(msg) :\n",
        "        return msg\n",
        "#A. Show =staticmethod(A.show)\n",
        "print(A.show('Hello'))"
      ],
      "metadata": {
        "colab": {
          "base_uri": "https://localhost:8080/"
        },
        "id": "nAm4kg2YhtyM",
        "outputId": "edcafc8f-c599-4988-e201-086283497073"
      },
      "execution_count": null,
      "outputs": [
        {
          "output_type": "stream",
          "name": "stdout",
          "text": [
            "Hello\n"
          ]
        }
      ]
    },
    {
      "cell_type": "code",
      "source": [
        "class A:\n",
        "    def disp(self) :\n",
        "        print('hello')\n",
        "    @staticmethod\n",
        "    def show(self) :\n",
        "        print(self)\n",
        "A1=A()\n",
        "A1.disp()\n",
        "A.show(11)"
      ],
      "metadata": {
        "colab": {
          "base_uri": "https://localhost:8080/"
        },
        "id": "Pt0NGllSiyXa",
        "outputId": "88e27945-8f62-40ea-e0fa-1ba64bd0354f"
      },
      "execution_count": null,
      "outputs": [
        {
          "output_type": "stream",
          "name": "stdout",
          "text": [
            "hello\n",
            "11\n"
          ]
        }
      ]
    },
    {
      "cell_type": "code",
      "source": [
        "class A:\n",
        "   name='sam'\n",
        "\n",
        "   def disp(msg) :\n",
        "       print(msg, A.name)\n",
        "obj=A()\n",
        "A.disp('Hello')"
      ],
      "metadata": {
        "colab": {
          "base_uri": "https://localhost:8080/"
        },
        "id": "jI-FYHpus9KP",
        "outputId": "ec67afc8-ece5-4518-8fc4-cbaf1d944746"
      },
      "execution_count": null,
      "outputs": [
        {
          "output_type": "stream",
          "name": "stdout",
          "text": [
            "Hello sam\n"
          ]
        }
      ]
    },
    {
      "cell_type": "code",
      "source": [
        "Cube=lambda n:n**3\n",
        "print(Cube(3))"
      ],
      "metadata": {
        "colab": {
          "base_uri": "https://localhost:8080/"
        },
        "id": "ffifoL0vxZz4",
        "outputId": "7e560dc9-0a7a-4769-b26a-b54b51481536"
      },
      "execution_count": null,
      "outputs": [
        {
          "output_type": "stream",
          "name": "stdout",
          "text": [
            "27\n"
          ]
        }
      ]
    },
    {
      "cell_type": "code",
      "source": [
        "lis=[1,2,3,4,5]\n",
        "l1=list(map(lambda x:x**2, lis))\n",
        "print(l1)"
      ],
      "metadata": {
        "colab": {
          "base_uri": "https://localhost:8080/"
        },
        "id": "2XG-siIAys5f",
        "outputId": "5857e1cc-67aa-4c08-8277-e0dbb2706afa"
      },
      "execution_count": null,
      "outputs": [
        {
          "output_type": "stream",
          "name": "stdout",
          "text": [
            "[1, 4, 9, 16, 25]\n"
          ]
        }
      ]
    },
    {
      "cell_type": "code",
      "source": [
        "lst=[1,2,3,4,5,6,7,8]\n",
        "l2=list(filter(lambda x:x%2, lst))\n",
        "print(l2)"
      ],
      "metadata": {
        "colab": {
          "base_uri": "https://localhost:8080/"
        },
        "id": "piAEbY6PzsrG",
        "outputId": "5ecbbb91-d7b2-4c0c-d8cb-370ca6921cf5"
      },
      "execution_count": null,
      "outputs": [
        {
          "output_type": "stream",
          "name": "stdout",
          "text": [
            "[1, 3, 5, 7]\n"
          ]
        }
      ]
    },
    {
      "cell_type": "code",
      "source": [
        "class multiplicationTabel:\n",
        "   def __int__(self, number,limit):\n",
        "       self. number=number\n",
        "       self. limit=limit\n",
        "   def display(self) :\n",
        "       return f'\\n Multiplication of {self.number} up to {self.limit}: \\n'\n",
        "       for i in range(1, self.limit+1) :\n",
        "           print(f'{self.number} * {i}={self.number*i}\\n')\n",
        "num=int(input('Enter your number'))\n",
        "Limit=int(input('Enter your limit'))\n",
        "Tabel=multiplicationTabel()\n",
        "Tabel. display ()"
      ],
      "metadata": {
        "colab": {
          "base_uri": "https://localhost:8080/",
          "height": 593
        },
        "id": "GYDWnJUfWUvf",
        "outputId": "78fd6f98-9afe-445f-983f-290a86f397d9"
      },
      "execution_count": null,
      "outputs": [
        {
          "name": "stdout",
          "output_type": "stream",
          "text": [
            "Enter your number6\n",
            "Enter your limit9\n"
          ]
        },
        {
          "output_type": "error",
          "ename": "AttributeError",
          "evalue": "'multiplicationTabel' object has no attribute 'number'",
          "traceback": [
            "\u001b[0;31m---------------------------------------------------------------------------\u001b[0m",
            "\u001b[0;31mAttributeError\u001b[0m                            Traceback (most recent call last)",
            "\u001b[0;32m<ipython-input-14-a43be2b30a7d>\u001b[0m in \u001b[0;36m<cell line: 0>\u001b[0;34m()\u001b[0m\n\u001b[1;32m     10\u001b[0m \u001b[0mLimit\u001b[0m\u001b[0;34m=\u001b[0m\u001b[0mint\u001b[0m\u001b[0;34m(\u001b[0m\u001b[0minput\u001b[0m\u001b[0;34m(\u001b[0m\u001b[0;34m'Enter your limit'\u001b[0m\u001b[0;34m)\u001b[0m\u001b[0;34m)\u001b[0m\u001b[0;34m\u001b[0m\u001b[0;34m\u001b[0m\u001b[0m\n\u001b[1;32m     11\u001b[0m \u001b[0mTabel\u001b[0m\u001b[0;34m=\u001b[0m\u001b[0mmultiplicationTabel\u001b[0m\u001b[0;34m(\u001b[0m\u001b[0;34m)\u001b[0m\u001b[0;34m\u001b[0m\u001b[0;34m\u001b[0m\u001b[0m\n\u001b[0;32m---> 12\u001b[0;31m \u001b[0mTabel\u001b[0m\u001b[0;34m.\u001b[0m \u001b[0mdisplay\u001b[0m \u001b[0;34m(\u001b[0m\u001b[0;34m)\u001b[0m\u001b[0;34m\u001b[0m\u001b[0;34m\u001b[0m\u001b[0m\n\u001b[0m",
            "\u001b[0;32m<ipython-input-14-a43be2b30a7d>\u001b[0m in \u001b[0;36mdisplay\u001b[0;34m(self)\u001b[0m\n\u001b[1;32m      4\u001b[0m        \u001b[0mself\u001b[0m\u001b[0;34m.\u001b[0m \u001b[0mlimit\u001b[0m\u001b[0;34m=\u001b[0m\u001b[0mlimit\u001b[0m\u001b[0;34m\u001b[0m\u001b[0;34m\u001b[0m\u001b[0m\n\u001b[1;32m      5\u001b[0m    \u001b[0;32mdef\u001b[0m \u001b[0mdisplay\u001b[0m\u001b[0;34m(\u001b[0m\u001b[0mself\u001b[0m\u001b[0;34m)\u001b[0m \u001b[0;34m:\u001b[0m\u001b[0;34m\u001b[0m\u001b[0;34m\u001b[0m\u001b[0m\n\u001b[0;32m----> 6\u001b[0;31m        \u001b[0;32mreturn\u001b[0m \u001b[0;34mf'\\n Multiplication of {self.number} up to {self.limit}: \\n'\u001b[0m\u001b[0;34m\u001b[0m\u001b[0;34m\u001b[0m\u001b[0m\n\u001b[0m\u001b[1;32m      7\u001b[0m        \u001b[0;32mfor\u001b[0m \u001b[0mi\u001b[0m \u001b[0;32min\u001b[0m \u001b[0mrange\u001b[0m\u001b[0;34m(\u001b[0m\u001b[0;36m1\u001b[0m\u001b[0;34m,\u001b[0m \u001b[0mself\u001b[0m\u001b[0;34m.\u001b[0m\u001b[0mlimit\u001b[0m\u001b[0;34m+\u001b[0m\u001b[0;36m1\u001b[0m\u001b[0;34m)\u001b[0m \u001b[0;34m:\u001b[0m\u001b[0;34m\u001b[0m\u001b[0;34m\u001b[0m\u001b[0m\n\u001b[1;32m      8\u001b[0m            \u001b[0mprint\u001b[0m\u001b[0;34m(\u001b[0m\u001b[0;34mf'{self.number} * {i}={self.number*i}\\n'\u001b[0m\u001b[0;34m)\u001b[0m\u001b[0;34m\u001b[0m\u001b[0;34m\u001b[0m\u001b[0m\n",
            "\u001b[0;31mAttributeError\u001b[0m: 'multiplicationTabel' object has no attribute 'number'"
          ]
        }
      ]
    },
    {
      "cell_type": "code",
      "source": [
        "class student:\n",
        "   def __init__(self, name, rollno, marks) :\n",
        "       self.name=name\n",
        "       self.rollno=rollno\n",
        "       self.marks=marks\n",
        "   def display(self) :\n",
        "       print(f'Name:{self.name}')\n",
        "       print(f'Rollno:{self.rollno}')\n",
        "       print(f'Marks:{self.marks}')\n",
        "Obj=student (\"Ashok\",\"1031\",\"89\")\n",
        "Obj. display ()"
      ],
      "metadata": {
        "colab": {
          "base_uri": "https://localhost:8080/"
        },
        "id": "F-fvYq5N5Orw",
        "outputId": "b331db74-2239-4d0b-f721-16803519bbb8"
      },
      "execution_count": null,
      "outputs": [
        {
          "output_type": "stream",
          "name": "stdout",
          "text": [
            "Name:Ashok\n",
            "Rollno:1031\n",
            "Marks:89\n"
          ]
        }
      ]
    },
    {
      "cell_type": "code",
      "source": [
        "def show(a):\n",
        "    a=100\n",
        "a=50\n",
        "print(a)\n",
        "show(a)\n",
        "print(a)"
      ],
      "metadata": {
        "colab": {
          "base_uri": "https://localhost:8080/"
        },
        "id": "gTev58UtvuTZ",
        "outputId": "da086eb4-d9c3-47b1-cd0f-7e1dec002750"
      },
      "execution_count": null,
      "outputs": [
        {
          "output_type": "stream",
          "name": "stdout",
          "text": [
            "50\n",
            "50\n"
          ]
        }
      ]
    },
    {
      "cell_type": "code",
      "source": [
        "print(int('101', 2))\n",
        "print(bin(45))"
      ],
      "metadata": {
        "id": "6KoQ-ahixf-0",
        "colab": {
          "base_uri": "https://localhost:8080/"
        },
        "outputId": "619b11be-4baf-4967-a19b-396c917980f4"
      },
      "execution_count": null,
      "outputs": [
        {
          "output_type": "stream",
          "name": "stdout",
          "text": [
            "5\n",
            "0b101101\n"
          ]
        }
      ]
    },
    {
      "cell_type": "code",
      "source": [
        "\n",
        "for i in range(2, 11):\n",
        "    if i%2==2:\n",
        "       Even = []\n",
        "       Even.append(i)\n",
        "    print(Even)"
      ],
      "metadata": {
        "colab": {
          "base_uri": "https://localhost:8080/",
          "height": 280
        },
        "id": "-brWRv_Ry6Ao",
        "outputId": "e98a8bd3-411b-4846-e992-237ed2c53290"
      },
      "execution_count": null,
      "outputs": [
        {
          "output_type": "error",
          "ename": "NameError",
          "evalue": "name 'Even' is not defined",
          "traceback": [
            "\u001b[0;31m---------------------------------------------------------------------------\u001b[0m",
            "\u001b[0;31mNameError\u001b[0m                                 Traceback (most recent call last)",
            "\u001b[0;32m<ipython-input-7-409ab77b0335>\u001b[0m in \u001b[0;36m<cell line: 0>\u001b[0;34m()\u001b[0m\n\u001b[1;32m      3\u001b[0m        \u001b[0mEven\u001b[0m \u001b[0;34m=\u001b[0m \u001b[0;34m[\u001b[0m\u001b[0;34m]\u001b[0m\u001b[0;34m\u001b[0m\u001b[0;34m\u001b[0m\u001b[0m\n\u001b[1;32m      4\u001b[0m        \u001b[0mEven\u001b[0m\u001b[0;34m.\u001b[0m\u001b[0mappend\u001b[0m\u001b[0;34m(\u001b[0m\u001b[0mi\u001b[0m\u001b[0;34m)\u001b[0m\u001b[0;34m\u001b[0m\u001b[0;34m\u001b[0m\u001b[0m\n\u001b[0;32m----> 5\u001b[0;31m     \u001b[0mprint\u001b[0m\u001b[0;34m(\u001b[0m\u001b[0mEven\u001b[0m\u001b[0;34m)\u001b[0m\u001b[0;34m\u001b[0m\u001b[0;34m\u001b[0m\u001b[0m\n\u001b[0m",
            "\u001b[0;31mNameError\u001b[0m: name 'Even' is not defined"
          ]
        }
      ]
    },
    {
      "cell_type": "code",
      "source": [
        "class bank:\n",
        "    def __init__(self,deposit):\n",
        "        self.deposit=deposit\n",
        "    def total_amount(self):\n",
        "        return self.deposit\n",
        "class person:\n",
        "    def __init__(self,name, deposit):\n",
        "        self.name=name\n",
        "        self.bank_obj=bank(deposit)\n",
        "\n",
        "    def display(self):\n",
        "        print(self.name)\n",
        "        return self.bank_obj.total_amount()\n",
        "amount=person('Ashok', 15000)\n",
        "print(amount.display())"
      ],
      "metadata": {
        "colab": {
          "base_uri": "https://localhost:8080/"
        },
        "id": "skFZHGNx8fLp",
        "outputId": "b7862e00-6ad8-491c-b7b5-68bdfba413f1"
      },
      "execution_count": null,
      "outputs": [
        {
          "output_type": "stream",
          "name": "stdout",
          "text": [
            "Ashok\n",
            "15000\n"
          ]
        }
      ]
    },
    {
      "cell_type": "code",
      "source": [
        "class triseries:\n",
        "    def series(self):\n",
        "        series=[]\n",
        "        for i in range(1,6):\n",
        "            series.append(int(i*(i+1)/2))\n",
        "        return series\n",
        "    #def show(self):\n",
        "        #series=[]\n",
        "        #print(series.append(item))\n",
        "obj=triseries()\n",
        "print(obj.series())"
      ],
      "metadata": {
        "colab": {
          "base_uri": "https://localhost:8080/"
        },
        "id": "fXDnmkewfHsy",
        "outputId": "70f80018-9b26-446b-da16-219bfeeec6c5"
      },
      "execution_count": null,
      "outputs": [
        {
          "output_type": "stream",
          "name": "stdout",
          "text": [
            "[1, 3, 6, 10, 15]\n"
          ]
        }
      ]
    }
  ]
}