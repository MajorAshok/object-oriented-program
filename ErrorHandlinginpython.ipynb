{
 "cells": [
  {
   "cell_type": "markdown",
   "metadata": {},
   "source": [
    "# Exception Handeling"
   ]
  },
  {
   "cell_type": "code",
   "execution_count": 2,
   "metadata": {},
   "outputs": [
    {
     "name": "stdout",
     "output_type": "stream",
     "text": [
      "0\n",
      "can't devide by zero\n",
      "program is executed\n"
     ]
    }
   ],
   "source": [
    "try: \n",
    "    n=0\n",
    "    res=0\n",
    "    print(res)\n",
    "    res=100/n\n",
    "    print(res)\n",
    "except ZeroDivisionError:\n",
    "    print(\"can't devide by zero\")\n",
    "else:\n",
    "    print(\"try block is correct\")\n",
    "finally:\n",
    "    print(\"program is executed\")"
   ]
  },
  {
   "cell_type": "markdown",
   "metadata": {},
   "source": [
    "# Raising Error "
   ]
  },
  {
   "cell_type": "code",
   "execution_count": null,
   "metadata": {},
   "outputs": [
    {
     "name": "stdout",
     "output_type": "stream",
     "text": [
      "age can't be negative\n"
     ]
    }
   ],
   "source": [
    "# raising error:\n",
    "#eg.01\n",
    "def set(age):\n",
    "    if age<0:\n",
    "        raise ValueError(\"age can't be negative\")\n",
    "    print(f'Age set to {age}')\n",
    "try:\n",
    "    set(-5)\n",
    "except ValueError as e:\n",
    "    print(e)"
   ]
  },
  {
   "cell_type": "code",
   "execution_count": null,
   "metadata": {},
   "outputs": [
    {
     "name": "stdout",
     "output_type": "stream",
     "text": [
      "salary is not sufficient\n"
     ]
    }
   ],
   "source": [
    "# Example 02\n",
    "def set(salary):\n",
    "    if salary>=0 and salary<=500:\n",
    "        raise ValueError(\"salary is not sufficient\")\n",
    "    print(f'Salary is {salary}')\n",
    "try:\n",
    "    set(60)\n",
    "except ValueError as e:\n",
    "    print(e)"
   ]
  },
  {
   "cell_type": "markdown",
   "metadata": {},
   "source": [
    "# Abstract class in Python"
   ]
  },
  {
   "cell_type": "code",
   "execution_count": 2,
   "metadata": {},
   "outputs": [],
   "source": [
    "from abc import ABC ,abstractmethod"
   ]
  },
  {
   "cell_type": "code",
   "execution_count": null,
   "metadata": {},
   "outputs": [
    {
     "name": "stdout",
     "output_type": "stream",
     "text": [
      "Bark\n"
     ]
    }
   ],
   "source": [
    "class Animal(ABC):\n",
    "    @abstractmethod\n",
    "    def sound(self):\n",
    "        pass           # why we use pass here \n",
    "class Dog(Animal):\n",
    "    def sound(self):\n",
    "        return \"Bark\"\n",
    "dog_obj=Dog()\n",
    "print(dog_obj.sound())"
   ]
  },
  {
   "cell_type": "code",
   "execution_count": null,
   "metadata": {},
   "outputs": [
    {
     "name": "stdout",
     "output_type": "stream",
     "text": [
      "Bark\n"
     ]
    }
   ],
   "source": [
    "#Querry-01 : what's the diffence in this code and in above code using abstract methode why we use it\n",
    "class Dog:\n",
    "    def sound(self):\n",
    "        return \"Bark\"\n",
    "dog=Dog()\n",
    "print(dog.sound())"
   ]
  },
  {
   "cell_type": "code",
   "execution_count": null,
   "metadata": {},
   "outputs": [
    {
     "data": {
      "text/plain": [
       "'Bark'"
      ]
     },
     "execution_count": 5,
     "metadata": {},
     "output_type": "execute_result"
    }
   ],
   "source": [
    "# Alternate to pass\n",
    "class animal(ABC):\n",
    "    @abstractmethod\n",
    "    def make_sound(self):\n",
    "        raise NotImplementedError(\"Subclass must implement this method\")\n",
    "class dog(animal):\n",
    "    def make_sound(self):\n",
    "        return (\"Bark\")    # return super().make_sound()\n",
    "dog=dog()\n",
    "dog.make_sound()"
   ]
  },
  {
   "cell_type": "code",
   "execution_count": 13,
   "metadata": {},
   "outputs": [
    {
     "ename": "TypeError",
     "evalue": "Can't instantiate abstract class A without an implementation for abstract method 'person'",
     "output_type": "error",
     "traceback": [
      "\u001b[1;31m---------------------------------------------------------------------------\u001b[0m",
      "\u001b[1;31mTypeError\u001b[0m                                 Traceback (most recent call last)",
      "Cell \u001b[1;32mIn[13], line 7\u001b[0m\n\u001b[0;32m      4\u001b[0m     \u001b[38;5;129m@abstractmethod\u001b[39m\n\u001b[0;32m      5\u001b[0m     \u001b[38;5;28;01mdef\u001b[39;00m\u001b[38;5;250m \u001b[39m\u001b[38;5;21mperson\u001b[39m(\u001b[38;5;28mself\u001b[39m):\n\u001b[0;32m      6\u001b[0m         \u001b[38;5;28;01mpass\u001b[39;00m\n\u001b[1;32m----> 7\u001b[0m a1\u001b[38;5;241m=\u001b[39m\u001b[43mA\u001b[49m\u001b[43m(\u001b[49m\u001b[43m)\u001b[49m\n",
      "\u001b[1;31mTypeError\u001b[0m: Can't instantiate abstract class A without an implementation for abstract method 'person'"
     ]
    }
   ],
   "source": [
    "#Date:26-03-25\n",
    "from abc import ABC,abstractmethod\n",
    "class A(ABC):\n",
    "    @abstractmethod\n",
    "    def person(self):\n",
    "        pass\n",
    "a1=A()"
   ]
  },
  {
   "cell_type": "code",
   "execution_count": 14,
   "metadata": {},
   "outputs": [
    {
     "name": "stdout",
     "output_type": "stream",
     "text": [
      "Hello\n"
     ]
    }
   ],
   "source": [
    "#eg.03\n",
    "class A(ABC):\n",
    "    @abstractmethod\n",
    "    def show(self):\n",
    "        pass\n",
    "class B(A):\n",
    "    def show(self):\n",
    "        print(\"Hello\")\n",
    "a2=B()\n",
    "a2.show()\n"
   ]
  },
  {
   "cell_type": "code",
   "execution_count": null,
   "metadata": {},
   "outputs": [
    {
     "ename": "TypeError",
     "evalue": "Can't instantiate abstract class B without an implementation for abstract method 'show'",
     "output_type": "error",
     "traceback": [
      "\u001b[1;31m---------------------------------------------------------------------------\u001b[0m",
      "\u001b[1;31mTypeError\u001b[0m                                 Traceback (most recent call last)",
      "Cell \u001b[1;32mIn[15], line 10\u001b[0m\n\u001b[0;32m      8\u001b[0m     \u001b[38;5;28;01mdef\u001b[39;00m\u001b[38;5;250m \u001b[39m\u001b[38;5;21mshow1\u001b[39m(\u001b[38;5;28mself\u001b[39m):\n\u001b[0;32m      9\u001b[0m         \u001b[38;5;28mprint\u001b[39m(\u001b[38;5;124m\"\u001b[39m\u001b[38;5;124mHello\u001b[39m\u001b[38;5;124m\"\u001b[39m)\n\u001b[1;32m---> 10\u001b[0m a2\u001b[38;5;241m=\u001b[39m\u001b[43mB\u001b[49m\u001b[43m(\u001b[49m\u001b[43m)\u001b[49m\n\u001b[0;32m     11\u001b[0m a2\u001b[38;5;241m.\u001b[39mshow1()\n",
      "\u001b[1;31mTypeError\u001b[0m: Can't instantiate abstract class B without an implementation for abstract method 'show'"
     ]
    }
   ],
   "source": [
    "#creating error as example\n",
    "#eg.03\n",
    "class A(ABC):\n",
    "    @abstractmethod\n",
    "    def show(self):\n",
    "        pass\n",
    "class B(A):\n",
    "    def show1(self):\n",
    "        print(\"Hello\")\n",
    "a2=B()\n",
    "a2.show1()\n"
   ]
  },
  {
   "cell_type": "code",
   "execution_count": 21,
   "metadata": {},
   "outputs": [
    {
     "name": "stdout",
     "output_type": "stream",
     "text": [
      "200\n"
     ]
    }
   ],
   "source": [
    "#example 04\n",
    "class shape:\n",
    "    @abstractmethod\n",
    "    def area(self):\n",
    "        print('ashok')  # No error because area method has been overriden by derived class.\n",
    "class rectangle(shape):\n",
    "    def area(self):\n",
    "        l=10\n",
    "        b=20\n",
    "        print(l*b)\n",
    "r1=rectangle()\n",
    "r1.area()"
   ]
  },
  {
   "cell_type": "code",
   "execution_count": 23,
   "metadata": {},
   "outputs": [
    {
     "name": "stdout",
     "output_type": "stream",
     "text": [
      "5.2l,V8\n"
     ]
    }
   ],
   "source": [
    "# Abstarct  Proprty :\n",
    "class car(ABC):\n",
    "    @property\n",
    "    def engine(self):\n",
    "        pass\n",
    "class speed(car):\n",
    "    @property\n",
    "    def engine(self):\n",
    "        return f'5.2l,V8'\n",
    "s1=speed()\n",
    "print(s1.engine)"
   ]
  },
  {
   "cell_type": "code",
   "execution_count": 24,
   "metadata": {},
   "outputs": [
    {
     "data": {
      "text/plain": [
       "int"
      ]
     },
     "execution_count": 24,
     "metadata": {},
     "output_type": "execute_result"
    }
   ],
   "source": [
    "a=23\n",
    "type(a)"
   ]
  },
  {
   "cell_type": "code",
   "execution_count": 25,
   "metadata": {},
   "outputs": [
    {
     "data": {
      "text/plain": [
       "int"
      ]
     },
     "execution_count": 25,
     "metadata": {},
     "output_type": "execute_result"
    }
   ],
   "source": [
    "type(32)"
   ]
  },
  {
   "cell_type": "code",
   "execution_count": null,
   "metadata": {},
   "outputs": [],
   "source": []
  }
 ],
 "metadata": {
  "kernelspec": {
   "display_name": "Python 3",
   "language": "python",
   "name": "python3"
  },
  "language_info": {
   "codemirror_mode": {
    "name": "ipython",
    "version": 3
   },
   "file_extension": ".py",
   "mimetype": "text/x-python",
   "name": "python",
   "nbconvert_exporter": "python",
   "pygments_lexer": "ipython3",
   "version": "3.12.4"
  }
 },
 "nbformat": 4,
 "nbformat_minor": 2
}
