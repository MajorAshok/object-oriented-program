{
 "cells": [
  {
   "cell_type": "code",
   "execution_count": 2,
   "id": "a196aaa7",
   "metadata": {},
   "outputs": [
    {
     "name": "stdout",
     "output_type": "stream",
     "text": [
      "Server listening on 127.0.0.1: 12345...\n",
      "Connected to ('127.0.0.1', 50532)\n",
      "Received from client: Hello from client!\n"
     ]
    }
   ],
   "source": [
    "import socket\n",
    "server_socket=socket.socket(socket.AF_INET,socket.SOCK_STREAM)\n",
    "host='127.0.0.1'\n",
    "port=12345\n",
    "server_socket.bind((host,port))\n",
    "server_socket.listen(1)\n",
    "print(f\"Server listening on {host}: {port}...\")\n",
    "client_socket, addr = server_socket.accept()\n",
    "print(f\"Connected to {addr}\")\n",
    "data=client_socket.recv(1024).decode()\n",
    "print(f\"Received from client: {data}\")\n",
    "client_socket.send(\"Hello from server!\".encode())\n",
    "client_socket.close()\n",
    "server_socket.close()"
   ]
  },
  {
   "cell_type": "code",
   "execution_count": null,
   "id": "637c1492",
   "metadata": {},
   "outputs": [],
   "source": []
  }
 ],
 "metadata": {
  "kernelspec": {
   "display_name": "Python 3",
   "language": "python",
   "name": "python3"
  },
  "language_info": {
   "codemirror_mode": {
    "name": "ipython",
    "version": 3
   },
   "file_extension": ".py",
   "mimetype": "text/x-python",
   "name": "python",
   "nbconvert_exporter": "python",
   "pygments_lexer": "ipython3",
   "version": "3.12.4"
  }
 },
 "nbformat": 4,
 "nbformat_minor": 5
}
