{
 "cells": [
  {
   "cell_type": "markdown",
   "metadata": {},
   "source": [
    "# Metaclass"
   ]
  },
  {
   "cell_type": "markdown",
   "metadata": {},
   "source": [
    "### Syntax: object=type(class_name,base_class list,dictionary variable and method list)"
   ]
  },
  {
   "cell_type": "code",
   "execution_count": 2,
   "metadata": {},
   "outputs": [
    {
     "name": "stdout",
     "output_type": "stream",
     "text": [
      "20\n",
      "30\n",
      "<class '__main__.A'>\n",
      "(<class '__main__.B'>,)\n"
     ]
    }
   ],
   "source": [
    "#Eg.01 \n",
    "class B:\n",
    "    pass\n",
    "A=type('A',(B,),{'x':20 , 'y':30})\n",
    "obj=A()\n",
    "print(obj.x)\n",
    "print(obj.y)\n",
    "print(obj.__class__)\n",
    "print(obj.__class__.__bases__)"
   ]
  },
  {
   "cell_type": "code",
   "execution_count": null,
   "metadata": {},
   "outputs": [
    {
     "name": "stdout",
     "output_type": "stream",
     "text": [
      "3.14\n",
      "<class '__main__.PI'>\n",
      "(<class 'object'>,)\n"
     ]
    }
   ],
   "source": [
    "#eg.02getting output the value of pie with the help of type class object\n",
    "pi=type('PI',(),{'pi':3.14})\n",
    "obj=pi()\n",
    "print(obj.pi)\n",
    "print(obj.__class__)\n",
    "print(obj.__class__.__bases__)"
   ]
  },
  {
   "cell_type": "code",
   "execution_count": 17,
   "metadata": {},
   "outputs": [
    {
     "name": "stdout",
     "output_type": "stream",
     "text": [
      "ASHOK\n",
      "A_class\n",
      "Doing my work with honesty,method inside baseclass\n"
     ]
    }
   ],
   "source": [
    "#eg.03 passing method as attributes :\n",
    "def show(self):\n",
    "    print('ASHOK')\n",
    "class baseclass:\n",
    "    def myfun(self):\n",
    "        print('Doing my work with honesty,method inside baseclass')\n",
    "a_type=type('my_class',(baseclass,),{'x':'A_class','my_method':show})\n",
    "obj=a_type()\n",
    "obj.my_method()\n",
    "print(obj.x)\n",
    "obj.myfun()"
   ]
  },
  {
   "cell_type": "markdown",
   "metadata": {},
   "source": [
    "## Customization In Metaclass"
   ]
  },
  {
   "cell_type": "code",
   "execution_count": 20,
   "metadata": {},
   "outputs": [
    {
     "ename": "TypeError",
     "evalue": "object.__new__() takes exactly one argument (the type to instantiate)",
     "output_type": "error",
     "traceback": [
      "\u001b[1;31m---------------------------------------------------------------------------\u001b[0m",
      "\u001b[1;31mTypeError\u001b[0m                                 Traceback (most recent call last)",
      "Cell \u001b[1;32mIn[20], line 7\u001b[0m\n\u001b[0;32m      5\u001b[0m             \u001b[38;5;28;01mraise\u001b[39;00m \u001b[38;5;167;01mTypeError\u001b[39;00m(\u001b[38;5;124m'\u001b[39m\u001b[38;5;124mInherited multiplebase class\u001b[39m\u001b[38;5;124m'\u001b[39m)\n\u001b[0;32m      6\u001b[0m         \u001b[38;5;28;01mreturn\u001b[39;00m \u001b[38;5;28msuper\u001b[39m()\u001b[38;5;241m.\u001b[39m\u001b[38;5;21m__new__\u001b[39m(\u001b[38;5;28mcls\u001b[39m,cls_name,bases,\u001b[38;5;28mdict\u001b[39m)\n\u001b[1;32m----> 7\u001b[0m \u001b[38;5;28;43;01mclass\u001b[39;49;00m\u001b[38;5;250;43m \u001b[39;49m\u001b[38;5;21;43;01mBase\u001b[39;49;00m\u001b[43m(\u001b[49m\u001b[43mmetaclass\u001b[49m\u001b[43m \u001b[49m\u001b[38;5;241;43m=\u001b[39;49m\u001b[43m \u001b[49m\u001b[43mmultibase\u001b[49m\u001b[43m)\u001b[49m\u001b[43m:\u001b[49m\n\u001b[0;32m      8\u001b[0m \u001b[43m    \u001b[49m\u001b[38;5;28;43;01mpass\u001b[39;49;00m\n\u001b[0;32m      9\u001b[0m \u001b[38;5;28;01mclass\u001b[39;00m\u001b[38;5;250m \u001b[39m\u001b[38;5;21;01mB\u001b[39;00m:\n",
      "Cell \u001b[1;32mIn[20], line 6\u001b[0m, in \u001b[0;36mmultibase.__new__\u001b[1;34m(cls, cls_name, bases, dict)\u001b[0m\n\u001b[0;32m      4\u001b[0m \u001b[38;5;28;01mif\u001b[39;00m \u001b[38;5;28mlen\u001b[39m(bases)\u001b[38;5;241m>\u001b[39m\u001b[38;5;241m1\u001b[39m:\n\u001b[0;32m      5\u001b[0m     \u001b[38;5;28;01mraise\u001b[39;00m \u001b[38;5;167;01mTypeError\u001b[39;00m(\u001b[38;5;124m'\u001b[39m\u001b[38;5;124mInherited multiplebase class\u001b[39m\u001b[38;5;124m'\u001b[39m)\n\u001b[1;32m----> 6\u001b[0m \u001b[38;5;28;01mreturn\u001b[39;00m \u001b[38;5;28;43msuper\u001b[39;49m\u001b[43m(\u001b[49m\u001b[43m)\u001b[49m\u001b[38;5;241;43m.\u001b[39;49m\u001b[38;5;21;43m__new__\u001b[39;49m\u001b[43m(\u001b[49m\u001b[38;5;28;43mcls\u001b[39;49m\u001b[43m,\u001b[49m\u001b[43mcls_name\u001b[49m\u001b[43m,\u001b[49m\u001b[43mbases\u001b[49m\u001b[43m,\u001b[49m\u001b[38;5;28;43mdict\u001b[39;49m\u001b[43m)\u001b[49m\n",
      "\u001b[1;31mTypeError\u001b[0m: object.__new__() takes exactly one argument (the type to instantiate)"
     ]
    }
   ],
   "source": [
    "# Question : Create class changing its behaviour so that it cant be inherited in multiple classes.\n",
    "class multibase():\n",
    "    def __new__(cls,cls_name,bases,dict):\n",
    "        if len(bases)>1:\n",
    "            raise TypeError('Inherited multiplebase class')\n",
    "        return super().__new__(cls,cls_name,bases,dict)\n",
    "class Base(metaclass = multibase):\n",
    "    pass\n",
    "class B:\n",
    "    pass\n",
    "class C(Base,B):\n",
    "    pass\n",
    "#lass D(B):\n",
    "   #pass\n",
    "#class E(Base,B):\n",
    "    #pass"
   ]
  },
  {
   "cell_type": "code",
   "execution_count": null,
   "metadata": {},
   "outputs": [],
   "source": []
  }
 ],
 "metadata": {
  "kernelspec": {
   "display_name": "Python 3",
   "language": "python",
   "name": "python3"
  },
  "language_info": {
   "codemirror_mode": {
    "name": "ipython",
    "version": 3
   },
   "file_extension": ".py",
   "mimetype": "text/x-python",
   "name": "python",
   "nbconvert_exporter": "python",
   "pygments_lexer": "ipython3",
   "version": "3.12.4"
  }
 },
 "nbformat": 4,
 "nbformat_minor": 2
}
