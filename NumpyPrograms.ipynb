{
 "cells": [
  {
   "cell_type": "code",
   "execution_count": 1,
   "id": "3a83731f",
   "metadata": {},
   "outputs": [],
   "source": [
    "import numpy as np\n"
   ]
  },
  {
   "cell_type": "code",
   "execution_count": 2,
   "id": "db5d99e3",
   "metadata": {},
   "outputs": [
    {
     "name": "stdout",
     "output_type": "stream",
     "text": [
      "Checkerboard Pattern:\n",
      " [[0 1 0 1 0 1 0 1]\n",
      " [1 0 1 0 1 0 1 0]\n",
      " [0 1 0 1 0 1 0 1]\n",
      " [1 0 1 0 1 0 1 0]\n",
      " [0 1 0 1 0 1 0 1]\n",
      " [1 0 1 0 1 0 1 0]\n",
      " [0 1 0 1 0 1 0 1]\n",
      " [1 0 1 0 1 0 1 0]]\n"
     ]
    }
   ],
   "source": [
    "##Checkerboard Pattern (8x8) using 0s and 1s\n",
    "checkerboard = np.indices((8, 8)).sum(axis=0) % 2\n",
    "print(\"Checkerboard Pattern:\\n\", checkerboard)"
   ]
  },
  {
   "cell_type": "code",
   "execution_count": 3,
   "id": "5dfa4fb3",
   "metadata": {},
   "outputs": [
    {
     "name": "stdout",
     "output_type": "stream",
     "text": [
      "Flattened and Sorted Descending:\n",
      " [4 3 2 1]\n"
     ]
    }
   ],
   "source": [
    "#Function to Flatten & Sort in Descending Order\n",
    "def flatten_and_sort_desc(arr):\n",
    "    return np.sort(arr.ravel())[::-1]\n",
    "\n",
    "# Example usage:\n",
    "arr = np.array([[3, 1], [4, 2]])\n",
    "print(\"Flattened and Sorted Descending:\\n\", flatten_and_sort_desc(arr))"
   ]
  },
  {
   "cell_type": "code",
   "execution_count": 4,
   "id": "f947c622",
   "metadata": {},
   "outputs": [
    {
     "name": "stdout",
     "output_type": "stream",
     "text": [
      "Matrix with Row Means Subtracted:\n",
      " [[-1.  0.  1.]\n",
      " [-1.  0.  1.]]\n"
     ]
    }
   ],
   "source": [
    "# Subtract Row Mean from Each Row (Broadcasting)\n",
    "matrix = np.array([[1, 2, 3], [4, 5, 6]])\n",
    "row_means = matrix.mean(axis=1, keepdims=True)\n",
    "centered_matrix = matrix - row_means\n",
    "print(\"Matrix with Row Means Subtracted:\\n\", centered_matrix)"
   ]
  },
  {
   "cell_type": "code",
   "execution_count": 5,
   "id": "dd606998",
   "metadata": {},
   "outputs": [
    {
     "name": "stdout",
     "output_type": "stream",
     "text": [
      "Elements Greater Than Average:\n",
      " [7 9]\n"
     ]
    }
   ],
   "source": [
    "# Find Elements Greater Than the Average\n",
    "arr = np.array([1, 3, 5, 7, 9])\n",
    "avg = arr.mean()\n",
    "greater_than_avg = arr[arr > avg]\n",
    "print(\"Elements Greater Than Average:\\n\", greater_than_avg)"
   ]
  },
  {
   "cell_type": "code",
   "execution_count": 15,
   "id": "3b6e5cd4",
   "metadata": {},
   "outputs": [
    {
     "name": "stdout",
     "output_type": "stream",
     "text": [
      "5x5 Identity Matrix:\n",
      " [[1. 0. 0. 0. 0.]\n",
      " [0. 1. 0. 0. 0.]\n",
      " [0. 0. 1. 0. 0.]\n",
      " [0. 0. 0. 1. 0.]\n",
      " [0. 0. 0. 0. 1.]]\n"
     ]
    }
   ],
   "source": [
    "#Create a 5x5 Identity Matrix\n",
    "import numpy as np\n",
    "\n",
    "identity_matrix = np.eye(5)\n",
    "print(\"5x5 Identity Matrix:\\n\", identity_matrix)\n"
   ]
  },
  {
   "cell_type": "code",
   "execution_count": 8,
   "id": "7195263a",
   "metadata": {},
   "outputs": [
    {
     "name": "stdout",
     "output_type": "stream",
     "text": [
      "Replaced Odd Numbers with -1:\n",
      " [-1  2 -1  4 -1]\n"
     ]
    }
   ],
   "source": [
    "#2. Replace All Odd Numbers in an Array with -1\n",
    "arr = np.array([1, 2, 3, 4, 5])\n",
    "arr[arr % 2 == 1] = -1\n",
    "print(\"Replaced Odd Numbers with -1:\\n\", arr)"
   ]
  },
  {
   "cell_type": "code",
   "execution_count": 9,
   "id": "58ebe8d6",
   "metadata": {},
   "outputs": [
    {
     "name": "stdout",
     "output_type": "stream",
     "text": [
      "4x4 Matrix:\n",
      " [[ 1  2  3  4]\n",
      " [ 5  6  7  8]\n",
      " [ 9 10 11 12]\n",
      " [13 14 15 16]]\n",
      "Diagonal:\n",
      " [ 1  6 11 16]\n"
     ]
    }
   ],
   "source": [
    "#3. Create a 4x4 Matrix and Extract Its Diagonal\n",
    "matrix_4x4 = np.arange(1, 17).reshape(4, 4)\n",
    "diagonal = np.diag(matrix_4x4)\n",
    "print(\"4x4 Matrix:\\n\", matrix_4x4)\n",
    "print(\"Diagonal:\\n\", diagonal)\n"
   ]
  },
  {
   "cell_type": "code",
   "execution_count": 10,
   "id": "7ac8797f",
   "metadata": {},
   "outputs": [
    {
     "name": "stdout",
     "output_type": "stream",
     "text": [
      "Vertical Stack:\n",
      " [[1 2]\n",
      " [3 4]\n",
      " [5 6]\n",
      " [7 8]]\n",
      "Horizontal Stack:\n",
      " [[1 2 5 6]\n",
      " [3 4 7 8]]\n"
     ]
    }
   ],
   "source": [
    "#4. Stack Two Arrays Vertically and Horizontally\n",
    "a = np.array([[1, 2], [3, 4]])\n",
    "b = np.array([[5, 6], [7, 8]])\n",
    "\n",
    "vertical_stack = np.vstack((a, b))\n",
    "horizontal_stack = np.hstack((a, b))\n",
    "\n",
    "print(\"Vertical Stack:\\n\", vertical_stack)\n",
    "print(\"Horizontal Stack:\\n\", horizontal_stack)"
   ]
  },
  {
   "cell_type": "code",
   "execution_count": 11,
   "id": "6c7ec9ab",
   "metadata": {},
   "outputs": [
    {
     "name": "stdout",
     "output_type": "stream",
     "text": [
      "Mean: 3.0\n",
      "Median: 3.0\n",
      "Standard Deviation: 1.4142135623730951\n"
     ]
    }
   ],
   "source": [
    "#5. Find Mean, Median, and Standard Deviation of an Array\n",
    "data = np.array([1, 2, 3, 4, 5])\n",
    "\n",
    "mean = np.mean(data)\n",
    "median = np.median(data)\n",
    "std_dev = np.std(data)\n",
    "\n",
    "print(\"Mean:\", mean)\n",
    "print(\"Median:\", median)\n",
    "print(\"Standard Deviation:\", std_dev)"
   ]
  },
  {
   "cell_type": "code",
   "execution_count": 12,
   "id": "79663114",
   "metadata": {},
   "outputs": [
    {
     "name": "stdout",
     "output_type": "stream",
     "text": [
      "Index of Max Element: 4\n",
      "Index of Min Element: 2\n"
     ]
    }
   ],
   "source": [
    "#6. Find Indices of the Maximum and Minimum Elements\n",
    "arr = np.array([10, 20, 5, 8, 100])\n",
    "\n",
    "max_index = np.argmax(arr)\n",
    "min_index = np.argmin(arr)\n",
    "\n",
    "print(\"Index of Max Element:\", max_index)\n",
    "print(\"Index of Min Element:\", min_index)"
   ]
  },
  {
   "cell_type": "code",
   "execution_count": 13,
   "id": "b9c3262c",
   "metadata": {},
   "outputs": [
    {
     "name": "stdout",
     "output_type": "stream",
     "text": [
      "Original Matrix:\n",
      " [[1 2 3]\n",
      " [4 5 6]\n",
      " [7 8 9]]\n",
      "Normalized Matrix:\n",
      " [[0.    0.125 0.25 ]\n",
      " [0.375 0.5   0.625]\n",
      " [0.75  0.875 1.   ]]\n"
     ]
    }
   ],
   "source": [
    "#7. Create 3x3 Matrix with Values 1 to 9 and Normalize It\n",
    "\n",
    "matrix = np.arange(1, 10).reshape(3, 3)\n",
    "normalized = (matrix - np.min(matrix)) / (np.max(matrix) - np.min(matrix))\n",
    "\n",
    "print(\"Original Matrix:\\n\", matrix)\n",
    "print(\"Normalized Matrix:\\n\", normalized)"
   ]
  },
  {
   "cell_type": "code",
   "execution_count": null,
   "id": "2f980089",
   "metadata": {},
   "outputs": [
    {
     "name": "stdout",
     "output_type": "stream",
     "text": [
      "Shuffled Array:\n",
      " [3 6 7 4 9 2 0 5 8 1]\n"
     ]
    }
   ],
   "source": [
    "#8. Shuffle Elements of an Array Randomly\n",
    "arr = np.arange(10)\n",
    "np.random.shuffle(arr)\n",
    "print(\"Shuffled Array:\\n\", arr)"
   ]
  },
  {
   "cell_type": "code",
   "execution_count": null,
   "id": "172bb41f",
   "metadata": {},
   "outputs": [],
   "source": []
  }
 ],
 "metadata": {
  "kernelspec": {
   "display_name": "Python 3",
   "language": "python",
   "name": "python3"
  },
  "language_info": {
   "codemirror_mode": {
    "name": "ipython",
    "version": 3
   },
   "file_extension": ".py",
   "mimetype": "text/x-python",
   "name": "python",
   "nbconvert_exporter": "python",
   "pygments_lexer": "ipython3",
   "version": "3.12.4"
  }
 },
 "nbformat": 4,
 "nbformat_minor": 5
}
