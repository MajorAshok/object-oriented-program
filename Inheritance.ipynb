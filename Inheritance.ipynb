{
 "cells": [
  {
   "cell_type": "markdown",
   "metadata": {},
   "source": [
    "## Singal Inheritance"
   ]
  },
  {
   "cell_type": "code",
   "execution_count": 4,
   "metadata": {},
   "outputs": [
    {
     "name": "stdout",
     "output_type": "stream",
     "text": [
      "Buddy make a sound\n",
      "Buddy Barks\n"
     ]
    }
   ],
   "source": [
    "class Animal:\n",
    "    def __init__(self,name):\n",
    "        self.name=name\n",
    "    def speak(self):\n",
    "        print(f'{self.name} make a sound')\n",
    "class dog(Animal):\n",
    "    def __init__(self, name,breed):\n",
    "        super().__init__(name)\n",
    "        self.breed=breed\n",
    "    def speak(self):\n",
    "        super().speak()\n",
    "        print(f'{self.name} Barks')\n",
    "obj=dog('Buddy','Golden Retriver')\n",
    "obj.speak()"
   ]
  },
  {
   "cell_type": "code",
   "execution_count": 5,
   "metadata": {},
   "outputs": [
    {
     "name": "stdout",
     "output_type": "stream",
     "text": [
      "27\n",
      "9\n",
      "16\n",
      "64\n",
      "64\n"
     ]
    }
   ],
   "source": [
    "class A:\n",
    "    def square(self,n):\n",
    "        print(n*n)\n",
    "class B(A):\n",
    "    def cube(self,n):\n",
    "        print(n**3)\n",
    "    def show(self,n):\n",
    "        super().square(n)\n",
    "        print (n**3)\n",
    "        self.cube(n)\n",
    "obj=B()\n",
    "obj.cube(3)\n",
    "obj.square(3)\n",
    "obj.show(4)"
   ]
  },
  {
   "cell_type": "code",
   "execution_count": 13,
   "metadata": {},
   "outputs": [
    {
     "name": "stdout",
     "output_type": "stream",
     "text": [
      "7.5 Area of Triangle\n",
      "15 Area of Rectangle\n"
     ]
    }
   ],
   "source": [
    "class Area:\n",
    "    def triarea(self,h,b):\n",
    "        print(f'{1/2*b*h} Area of Triangle')\n",
    "class Area2(Area):\n",
    "    def rectarea(self,l,b):\n",
    "        print(f'{l*b} Area of Rectangle')\n",
    "    def show(self,l,b):\n",
    "        super().triarea(l,b)\n",
    "        self.rectarea(l,b)\n",
    "obj=Area2()\n",
    "obj.show(5,3)"
   ]
  },
  {
   "cell_type": "code",
   "execution_count": 9,
   "metadata": {},
   "outputs": [
    {
     "name": "stdout",
     "output_type": "stream",
     "text": [
      "Area of Triangle is: 10.0\n",
      "Area of Rectangle is: 20\n"
     ]
    }
   ],
   "source": [
    "class Triangle:\n",
    "    def areaT(self,b,h):\n",
    "        print(f'Area of Triangle is: {1/2*b*h}')\n",
    "class Rectangle(Triangle):\n",
    "    def area(self,l,w):\n",
    "        super().areaT(l,w)\n",
    "        print(f'Area of Rectangle is: {l*w}')\n",
    "obj=Rectangle()\n",
    "obj.area(4,5)"
   ]
  },
  {
   "cell_type": "markdown",
   "metadata": {},
   "source": [
    "## Multi level Inheritance"
   ]
  },
  {
   "cell_type": "code",
   "execution_count": 8,
   "metadata": {},
   "outputs": [
    {
     "name": "stdout",
     "output_type": "stream",
     "text": [
      "Hey,future AI Master\n",
      "You are awesome!!!!!\n",
      "Learning programming is awesome.\n"
     ]
    }
   ],
   "source": [
    "class A:\n",
    "    def msg(self):\n",
    "        print(\"Hey,future AI Master\")\n",
    "class B(A):\n",
    "    def msg2(self):\n",
    "        print(\"Learning programming is awesome.\")\n",
    "class C(B):\n",
    "    def msg3(self):\n",
    "        print(\"You are awesome!!!!!\")\n",
    "    #def show(self):\n",
    "\n",
    "obj=C()\n",
    "obj.msg()\n",
    "obj.msg3()\n",
    "obj.msg2()\n"
   ]
  },
  {
   "cell_type": "code",
   "execution_count": 32,
   "metadata": {},
   "outputs": [
    {
     "name": "stdout",
     "output_type": "stream",
     "text": [
      "state name: MP\n",
      "School name: De Paul\n",
      "stud name: Ashok\n",
      "state name: MP\n"
     ]
    }
   ],
   "source": [
    "class state:\n",
    "    def show1(self,state):\n",
    "        self.state=state\n",
    "        print(f'state name: {self.state}')\n",
    "class School(state):\n",
    "    def show2(self,school):\n",
    "        self.school=school\n",
    "        print(f'School name: {self.school}')\n",
    "class student(School):\n",
    "    def show(self,state,school,stud_name):\n",
    "        super().show1(state)\n",
    "        super().show2(school)\n",
    "        self.stud_name= stud_name\n",
    "        print(f'stud name: {self.stud_name}')\n",
    "obj=student()\n",
    "obj.show('MP','De Paul','Ashok')\n",
    "obj.__class__.__base__\n",
    "obj.show1('MP')\n"
   ]
  },
  {
   "cell_type": "markdown",
   "metadata": {},
   "source": [
    "## Multiple Inheritance"
   ]
  },
  {
   "cell_type": "code",
   "execution_count": 12,
   "metadata": {},
   "outputs": [
    {
     "name": "stdout",
     "output_type": "stream",
     "text": [
      "98\n",
      "11\n",
      "204\n"
     ]
    }
   ],
   "source": [
    "class A :\n",
    "    def add(self,a,b):\n",
    "        return (a+b)\n",
    "class B:\n",
    "    def sub(self,a,b):\n",
    "        print(a-b)\n",
    "class C(A,B):\n",
    "    def multi(self,a,b):\n",
    "        print(a*b)\n",
    "objC=C()\n",
    "print(objC.add(89,9))\n",
    "objC.sub(56,45)\n",
    "objC.multi(34,6)"
   ]
  },
  {
   "cell_type": "code",
   "execution_count": 26,
   "metadata": {},
   "outputs": [
    {
     "name": "stdout",
     "output_type": "stream",
     "text": [
      "car name: Ford\n",
      "Car Engine: V8 5.2L\n",
      "Car Variant: Mustang Shelby GT500\n",
      "Car Engine: V7 4.8L\n"
     ]
    }
   ],
   "source": [
    "class car:\n",
    "    def show1(self,brand):\n",
    "        self.brand=brand\n",
    "        print(f'car name: {self.brand}')\n",
    "class engine:\n",
    "    def show(self,engine):\n",
    "        self.engine=engine\n",
    "        print(f'Car Engine: {self.engine}')\n",
    "class Variant(car,engine):\n",
    "    def show(self,brand,engine,variant):\n",
    "        super().show1(brand)\n",
    "        super().show(engine)\n",
    "        self.variant=variant\n",
    "        print(f'Car Variant: {self.variant}')\n",
    "obj=Variant()\n",
    "obj.show('Ford','V8 5.2L','Mustang Shelby GT500')\n",
    "obj2=engine()\n",
    "obj2.show('V7 4.8L')"
   ]
  },
  {
   "cell_type": "markdown",
   "metadata": {},
   "source": [
    "## Hierarchical Inheritance"
   ]
  },
  {
   "cell_type": "code",
   "execution_count": null,
   "metadata": {},
   "outputs": [],
   "source": [
    "#hierarchical inheritance\n",
    "class A:\n",
    "    ans=10\n",
    "    def show(self):\n",
    "        print(self.ans)\n",
    "class B:\n",
    "    def sub(self,a,b):\n",
    "        self.ans=a-B\n",
    "        self.show()\n",
    "class C(A,B):\n",
    "    def Add(self,a,b):\n",
    "        self.ans=a+B\n",
    "        self.show()\n",
    "obj=B()\n",
    "obj.sub(100,90)\n",
    "C1=C()\n",
    "C1.Add(20,40)"
   ]
  },
  {
   "cell_type": "markdown",
   "metadata": {},
   "source": [
    "## Access Modfier\n",
    "#### 1.Public variable    : a\n",
    "#### 2.Protected variable : _b\n",
    "#### 3.Private vriable    : __c"
   ]
  },
  {
   "cell_type": "code",
   "execution_count": null,
   "metadata": {},
   "outputs": [
    {
     "name": "stdout",
     "output_type": "stream",
     "text": [
      "10\n"
     ]
    },
    {
     "ename": "AttributeError",
     "evalue": "'A' object has no attribute 'c'",
     "output_type": "error",
     "traceback": [
      "\u001b[1;31m---------------------------------------------------------------------------\u001b[0m",
      "\u001b[1;31mAttributeError\u001b[0m                            Traceback (most recent call last)",
      "Cell \u001b[1;32mIn[2], line 8\u001b[0m\n\u001b[0;32m      6\u001b[0m \u001b[38;5;28mprint\u001b[39m(obj\u001b[38;5;241m.\u001b[39ma)\n\u001b[0;32m      7\u001b[0m \u001b[38;5;66;03m#print(obj.b)\u001b[39;00m\n\u001b[1;32m----> 8\u001b[0m \u001b[38;5;28mprint\u001b[39m(\u001b[43mobj\u001b[49m\u001b[38;5;241;43m.\u001b[39;49m\u001b[43mc\u001b[49m)\n",
      "\u001b[1;31mAttributeError\u001b[0m: 'A' object has no attribute 'c'"
     ]
    }
   ],
   "source": [
    "class A:\n",
    "    a=10\n",
    "    _b=20\n",
    "    __c=30\n",
    "obj=A()\n",
    "print(obj.a)\n",
    "print(obj.b)\n",
    "print(obj.c)"
   ]
  },
  {
   "cell_type": "code",
   "execution_count": 39,
   "metadata": {},
   "outputs": [
    {
     "data": {
      "text/plain": [
       "(43, 4, 2)"
      ]
     },
     "execution_count": 39,
     "metadata": {},
     "output_type": "execute_result"
    }
   ],
   "source": [
    "# Accessing private variable using class :\n",
    "class A:\n",
    "    a=2\n",
    "    _b=4\n",
    "    __c=43\n",
    "    def show(self):\n",
    "        return self.__c ,self._b , self.a\n",
    "ovj=A()\n",
    "ovj.show()\n"
   ]
  },
  {
   "cell_type": "markdown",
   "metadata": {},
   "source": [
    "## Hybrid Inheritance "
   ]
  },
  {
   "cell_type": "code",
   "execution_count": null,
   "metadata": {},
   "outputs": [],
   "source": [
    "class A:\n",
    "    def "
   ]
  }
 ],
 "metadata": {
  "kernelspec": {
   "display_name": "Python 3",
   "language": "python",
   "name": "python3"
  },
  "language_info": {
   "codemirror_mode": {
    "name": "ipython",
    "version": 3
   },
   "file_extension": ".py",
   "mimetype": "text/x-python",
   "name": "python",
   "nbconvert_exporter": "python",
   "pygments_lexer": "ipython3",
   "version": "3.12.4"
  }
 },
 "nbformat": 4,
 "nbformat_minor": 2
}
