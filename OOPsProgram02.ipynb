{
  "nbformat": 4,
  "nbformat_minor": 0,
  "metadata": {
    "colab": {
      "provenance": [],
      "authorship_tag": "ABX9TyNMnKlqFps48Mq1zehhid+L",
      "include_colab_link": true
    },
    "kernelspec": {
      "name": "python3",
      "display_name": "Python 3"
    },
    "language_info": {
      "name": "python"
    }
  },
  "cells": [
    {
      "cell_type": "markdown",
      "metadata": {
        "id": "view-in-github",
        "colab_type": "text"
      },
      "source": [
        "<a href=\"https://colab.research.google.com/github/MajorAshok/object-oriented-program/blob/main/OOPsProgram02.ipynb\" target=\"_parent\"><img src=\"https://colab.research.google.com/assets/colab-badge.svg\" alt=\"Open In Colab\"/></a>"
      ]
    },
    {
      "cell_type": "code",
      "execution_count": null,
      "metadata": {
        "colab": {
          "base_uri": "https://localhost:8080/"
        },
        "id": "YwC8XrBJsKEE",
        "outputId": "73e55268-859c-4c93-c453-fa1ceed4e476"
      },
      "outputs": [
        {
          "output_type": "stream",
          "name": "stdout",
          "text": [
            "[12, 45]\n",
            "[12]\n"
          ]
        }
      ],
      "source": [
        "class stack:\n",
        "    def __init__(self) :\n",
        "        self.stack = []\n",
        "\n",
        "    def push(self, items):\n",
        "        return self.stack.append(items)\n",
        "\n",
        "    def pop(self):\n",
        "        if self.stack:\n",
        "           return self.stack.pop()\n",
        "\n",
        "    def peek(self):\n",
        "        if self.stack:\n",
        "           return self.stack.append(items)\n",
        "        return 'Empty Stack'\n",
        "    def is_empty(self) :\n",
        "        if self.stack ==0:\n",
        "           return 'Stack is Empty'\n",
        "\n",
        "    def size(self):\n",
        "        return len(self.stack)\n",
        "\n",
        "\n",
        "obj = stack()\n",
        "obj.push(12)\n",
        "obj. push(45)\n",
        "print(obj.stack)\n",
        "obj.pop()\n",
        "print(obj.stack)"
      ]
    },
    {
      "cell_type": "code",
      "source": [
        "class A:\n",
        "   def add(self,a,b) :\n",
        "       return a+b\n",
        "class B:\n",
        "   def sub(self, a, b,) :\n",
        "       return a-b\n",
        "class C(A, B) :\n",
        "   def show(self):\n",
        "       print('Add=',self.add(1, 2))\n",
        "       print('subtract=',self.sub(3,2))\n",
        "obj=C()\n",
        "obj. show()"
      ],
      "metadata": {
        "colab": {
          "base_uri": "https://localhost:8080/"
        },
        "id": "NkoU6zszxDf6",
        "outputId": "0988081a-d6c5-4bc5-8e31-82bcce599fe7"
      },
      "execution_count": null,
      "outputs": [
        {
          "output_type": "stream",
          "name": "stdout",
          "text": [
            "Add= 3\n",
            "subtract= 1\n"
          ]
        }
      ]
    },
    {
      "cell_type": "code",
      "source": [
        "class A:\n",
        "    def show(self) :\n",
        "        print(\"Base calss\")\n",
        "class B(A):\n",
        "    def show(self) :\n",
        "        print(\"derive class\")\n",
        "obj=B()\n",
        "obj. show()"
      ],
      "metadata": {
        "colab": {
          "base_uri": "https://localhost:8080/"
        },
        "id": "DvkWadTnu0Fd",
        "outputId": "1caeaedb-907e-498f-ea67-6ae84cbca0fd"
      },
      "execution_count": null,
      "outputs": [
        {
          "output_type": "stream",
          "name": "stdout",
          "text": [
            "derive class\n"
          ]
        }
      ]
    },
    {
      "cell_type": "code",
      "source": [
        "class triangle:\n",
        "    def area(self, b, h):\n",
        "        print(f'Area of triangle: {1/2*b*h}')\n",
        "    def show(self):\n",
        "        self.area(4, 6)\n",
        "class circle1(triangle) :\n",
        "    def area(self, pi, r):\n",
        "        pi=3.14\n",
        "        print(f'Area of circle: {pi*r**2}')\n",
        "    def show(self):\n",
        "        self.area(3.14,5)\n",
        "obj1=circle1()\n",
        "obj2=triangle()\n",
        "obj1.show()\n",
        "obj2.show()"
      ],
      "metadata": {
        "colab": {
          "base_uri": "https://localhost:8080/"
        },
        "id": "fmx8u4LEvZz9",
        "outputId": "52361122-4168-463e-8cd4-90b4366983b7"
      },
      "execution_count": null,
      "outputs": [
        {
          "output_type": "stream",
          "name": "stdout",
          "text": [
            "Area of circle: 78.5\n",
            "Area of triangle: 12.0\n"
          ]
        }
      ]
    },
    {
      "cell_type": "code",
      "source": [
        "class Person:\n",
        "    def __init__(self, name,ID):\n",
        "        self.name=name\n",
        "        self.ID=ID\n",
        "class employee(Person):\n",
        "    def __init__(self, name, ID, salary):\n",
        "        super().__init__(name, ID)\n",
        "        self.salary=salary\n",
        "    def display(self):\n",
        "        return f'Employee details: Name: {self.name} , ID: {self.ID}, Salary: {self.salary}'\n",
        "obj= employee('Ashok', 1031,'2cr')\n",
        "print(obj.display())"
      ],
      "metadata": {
        "colab": {
          "base_uri": "https://localhost:8080/"
        },
        "id": "bNlfxdQszNuD",
        "outputId": "049a01aa-05d7-4f3d-eed2-b28765b0d171"
      },
      "execution_count": null,
      "outputs": [
        {
          "output_type": "stream",
          "name": "stdout",
          "text": [
            "Employee details: Name: Ashok , ID: 1031, Salary: 2cr\n"
          ]
        }
      ]
    },
    {
      "cell_type": "markdown",
      "source": [
        "**Composition And Aggregation**"
      ],
      "metadata": {
        "id": "3w83qAba9Rak"
      }
    },
    {
      "cell_type": "code",
      "source": [
        "# Program\n",
        "class salary:\n",
        "  def __init__(self, pay, bonus):\n",
        "    self.pay=pay\n",
        "    self.bonus=bonus\n",
        "  def annual_salary(self):\n",
        "    return (self.pay*12)+self.bonus\n",
        "class Employee:\n",
        "  def __init__(self, name, age, pay, bonus):\n",
        "    self.name=name\n",
        "    self.age=age\n",
        "    self.obj_salary=salary(pay, bonus)\n",
        "  def total_salary(self):\n",
        "      return self.obj_salary.annual_salary()\n",
        "emp=Employee('Ashok',20,1500,1000)\n",
        "print(emp.total_salary())"
      ],
      "metadata": {
        "colab": {
          "base_uri": "https://localhost:8080/"
        },
        "id": "Sw6zIhvJ9OHl",
        "outputId": "a5d63d14-502c-41fa-ade8-d2e27a54599f"
      },
      "execution_count": null,
      "outputs": [
        {
          "output_type": "stream",
          "name": "stdout",
          "text": [
            "19000\n"
          ]
        }
      ]
    },
    {
      "cell_type": "code",
      "source": [
        "# Examples on composition:\n",
        "#01.\n",
        "class Engine:\n",
        "  def __init__(self,type_,horse_power):\n",
        "      self.type_=type_\n",
        "      self.horse_power=horse_power\n",
        "  def model(self):\n",
        "      return self.type_ , self.horse_power\n",
        "class car:\n",
        "   def __init__(self, model_name,type_,horse_power):\n",
        "       self.model_name=model_name\n",
        "       self.obj_engine=Engine(type_,horse_power)\n",
        "   def car_type(self):\n",
        "       print(f'Car name: {self.model_name}\\nEngine Type: {self.obj_engine.type_}\\nHorse Power: {self.obj_engine.horse_power}')\n",
        "car_obj=car('Ford Mustang Shelby GT500','5.2L V8',760)\n",
        "car_obj.car_type()"
      ],
      "metadata": {
        "colab": {
          "base_uri": "https://localhost:8080/"
        },
        "id": "4s3GfCcc-zic",
        "outputId": "64c41406-cedd-400c-8886-eeb335887f2c"
      },
      "execution_count": null,
      "outputs": [
        {
          "output_type": "stream",
          "name": "stdout",
          "text": [
            "Car name: Ford Mustang Shelby GT500\n",
            "Engine Type: 5.2L V8\n",
            "Horse Power: 760\n"
          ]
        }
      ]
    },
    {
      "cell_type": "code",
      "source": [
        "# 02\n",
        "class address:\n",
        "  def __init__(self,state,city):\n",
        "    self.city=city\n",
        "    self.state=state\n",
        "class student:\n",
        "  def __init__(self,name,stu_code,state,city):\n",
        "    self.name=name\n",
        "    self.stu_code=stu_code\n",
        "    self.obj_address=address(state,city)\n",
        "  def stu_info(self):\n",
        "      print(f'Student Name: {self.name}\\nStudent Code: {self.stu_code}\\nAddress: {self.obj_address.state}, {self.obj_address.city}')\n",
        "obj=student('Ashok',1031,'Tamil Nadu','Chennai')\n",
        "obj.stu_info()"
      ],
      "metadata": {
        "colab": {
          "base_uri": "https://localhost:8080/"
        },
        "id": "Ykdepr0-G4Ut",
        "outputId": "c3369626-cff2-442b-b362-c4745b8bf3e4"
      },
      "execution_count": null,
      "outputs": [
        {
          "output_type": "stream",
          "name": "stdout",
          "text": [
            "Student Name: Ashok\n",
            "Student Code: 1031\n",
            "Address: Tamil Nadu, Chennai\n"
          ]
        }
      ]
    },
    {
      "cell_type": "code",
      "source": [
        "# 03\n",
        "class Properties:\n",
        "  def __init__(self, battery_capacity, Ram, Processor,camera):\n",
        "    self.battery_capacity=battery_capacity\n",
        "    self.Ram=Ram\n",
        "    self.Processor=Processor\n",
        "    self.camera=camera\n",
        "class Mobile:\n",
        "  def __init__(self, brand_name,model_name, battery_capacity, Ram, Processor,camera):\n",
        "    self.name=brand_name\n",
        "    self.model_name=model_name\n",
        "    self.obj_properties=Properties(battery_capacity, Ram, Processor,camera)\n",
        "  def mobile_info(self):\n",
        "      print(f'Brand Name: {self.name}\\nModel Name: {self.model_name}')\n",
        "      print(f'Battery Capacity: {self.obj_properties.battery_capacity}\\nRAM: {self.obj_properties.Ram}\\nProcessor: {self.obj_properties.Processor}\\nCamera: {self.obj_properties.camera}')\n",
        "obj_mob=Mobile('Techno Camon 20','Techno Ck 6','5000 mah','8 Gb','Helio G85','64 mp and 32 mp')\n",
        "obj_mob.mobile_info()"
      ],
      "metadata": {
        "colab": {
          "base_uri": "https://localhost:8080/"
        },
        "id": "byCaBIctKgXD",
        "outputId": "7e9e10c6-2381-430f-e9d9-ce7ed7142dd3"
      },
      "execution_count": null,
      "outputs": [
        {
          "output_type": "stream",
          "name": "stdout",
          "text": [
            "Brand Name: Techno Camon 20\n",
            "Model Name: Techno Ck 6\n",
            "Battery Capacity: 5000 mah\n",
            "RAM: 8 Gb\n",
            "Processor: Helio G85\n",
            "Camera: 64 mp and 32 mp\n"
          ]
        }
      ]
    },
    {
      "cell_type": "markdown",
      "source": [
        "**Aggregation**"
      ],
      "metadata": {
        "id": "osQO-WhKNk_c"
      }
    },
    {
      "cell_type": "code",
      "source": [
        "#01.\n",
        "class Engine:\n",
        "  def __init__(self,type_,horse_power):\n",
        "      self.type_=type_\n",
        "      self.horse_power=horse_power\n",
        "  def model(self):\n",
        "      return self.type_ , self.horse_power\n",
        "eng=Engine('5.2L V8',760)\n",
        "class car:\n",
        "   def __init__(self, model_name,eng):\n",
        "       self.model_name=model_name\n",
        "       self.obj_engine=eng\n",
        "   def car_type(self):\n",
        "       print(f'Car name: {self.model_name}\\nEngine Type: {self.obj_engine.type_}\\nHorse Power: {self.obj_engine.horse_power}')\n",
        "car_obj=car('Ford Mustang Shelby GT500',eng)\n",
        "car_obj.car_type()"
      ],
      "metadata": {
        "colab": {
          "base_uri": "https://localhost:8080/"
        },
        "id": "M7f3NF4fNRQr",
        "outputId": "b3d902c8-6617-4c14-82e5-0b05d80947f5"
      },
      "execution_count": null,
      "outputs": [
        {
          "output_type": "stream",
          "name": "stdout",
          "text": [
            "Car name: Ford Mustang Shelby GT500\n",
            "Engine Type: 5.2L V8\n",
            "Horse Power: 760\n"
          ]
        }
      ]
    },
    {
      "cell_type": "markdown",
      "source": [
        "**Exception (error) Handling in Python:** date:21-03-25"
      ],
      "metadata": {
        "id": "psFmBzid-HnH"
      }
    },
    {
      "cell_type": "code",
      "source": [],
      "metadata": {
        "id": "C4Vy5HpbOqOD"
      },
      "execution_count": null,
      "outputs": []
    }
  ]
}