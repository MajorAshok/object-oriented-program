{
 "cells": [
  {
   "cell_type": "code",
   "execution_count": 2,
   "id": "842f871f",
   "metadata": {},
   "outputs": [
    {
     "name": "stdout",
     "output_type": "stream",
     "text": [
      "Recieved from client! : Hello from server!\n"
     ]
    }
   ],
   "source": [
    "import socket \n",
    "client_socket=socket.socket(socket.AF_INET,socket.SOCK_STREAM)\n",
    "host='127.0.0.1'\n",
    "port=12345\n",
    "\n",
    "client_socket.connect((host,port))\n",
    "client_socket.send(\"Hello from client!\".encode())\n",
    "\n",
    "data=client_socket.recv(1024).decode()\n",
    "print(f\"Recieved from client! : {data}\")\n",
    "client_socket.close()"
   ]
  },
  {
   "cell_type": "code",
   "execution_count": null,
   "id": "64fa5f2a",
   "metadata": {},
   "outputs": [],
   "source": []
  }
 ],
 "metadata": {
  "kernelspec": {
   "display_name": "Python 3",
   "language": "python",
   "name": "python3"
  },
  "language_info": {
   "codemirror_mode": {
    "name": "ipython",
    "version": 3
   },
   "file_extension": ".py",
   "mimetype": "text/x-python",
   "name": "python",
   "nbconvert_exporter": "python",
   "pygments_lexer": "ipython3",
   "version": "3.12.4"
  }
 },
 "nbformat": 4,
 "nbformat_minor": 5
}
