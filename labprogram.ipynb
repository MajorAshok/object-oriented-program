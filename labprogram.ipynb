{
 "cells": [
  {
   "cell_type": "markdown",
   "metadata": {},
   "source": [
    "### Program 01:\n",
    "#### Write A program to print a table using loop."
   ]
  },
  {
   "cell_type": "code",
   "execution_count": 2,
   "metadata": {},
   "outputs": [
    {
     "name": "stdout",
     "output_type": "stream",
     "text": [
      "Multiplication Table for:9 up to :10 is;\n",
      "9 x 1=9\n",
      "9 x 2=18\n",
      "9 x 3=27\n",
      "9 x 4=36\n",
      "9 x 5=45\n",
      "9 x 6=54\n",
      "9 x 7=63\n",
      "9 x 8=72\n",
      "9 x 9=81\n",
      "9 x 10=90\n"
     ]
    }
   ],
   "source": [
    "class MultiplicationTable:\n",
    "    def __init__(self,number,limit):\n",
    "        self.number=number\n",
    "        self.limit=limit\n",
    "    def display(self):\n",
    "        print(f'Multiplication Table for:{self.number} up to :{self.limit} is;')\n",
    "        for i in range (1,self.limit+1):\n",
    "            print(f'{self.number} x {i}={self.number * i}')\n",
    "num=int(input('Enter a number: '))\n",
    "limit=int(input('Enter a limit: '))\n",
    "tabel=MultiplicationTable(num,limit)\n",
    "tabel.display()\n"
   ]
  },
  {
   "cell_type": "markdown",
   "metadata": {},
   "source": [
    "### Program 02:\n",
    "#### To Add two number;"
   ]
  },
  {
   "cell_type": "code",
   "execution_count": 2,
   "metadata": {},
   "outputs": [
    {
     "data": {
      "text/plain": [
       "'Sum of 34 and 23 is: 57'"
      ]
     },
     "execution_count": 2,
     "metadata": {},
     "output_type": "execute_result"
    }
   ],
   "source": [
    "class Addition:\n",
    "    def __init__(self,num1,num2):\n",
    "        self.num1=num1\n",
    "        self.num2=num2\n",
    "    def add_number(self):\n",
    "        return f'Sum of {self.num1} and {self.num2} is: {self.num1 + self.num2}'\n",
    "Add=Addition(int(input('Enter a number1: ')),int(input('Enter a number2: ')))\n",
    "Add.add_number()\n"
   ]
  },
  {
   "cell_type": "markdown",
   "metadata": {},
   "source": [
    "### Program 03:\n",
    "#### Creat a calculator for basic Arithmetic operation."
   ]
  },
  {
   "cell_type": "code",
   "execution_count": null,
   "metadata": {},
   "outputs": [
    {
     "name": "stdout",
     "output_type": "stream",
     "text": [
      "Select operation: \n",
      "1.Add\n",
      "2.Sutract\n",
      "3.Mnultiply\n",
      "4.Division\n",
      "5.Squar_Root\n",
      "6.Power\n",
      "7.Exit\n",
      "Square root of 45.0 is: 6.708203932499369\n",
      "Invalide choice\n",
      "Happy Learning\n"
     ]
    }
   ],
   "source": [
    "import math\n",
    "class calculator:\n",
    "    def add(self,a,b): \n",
    "        return a+b\n",
    "    def sub(self,a,b):\n",
    "        return a-b\n",
    "    def multi(self,a,b):\n",
    "        return a*b\n",
    "    def div(self,a,b):\n",
    "        if b==0:\n",
    "            return 'Zero Division Error!!!'\n",
    "        return a/b \n",
    "    def square_root(self,a):\n",
    "        return math.sqrt(a)\n",
    "    def power(self,a,b):\n",
    "        return math.pow(a,b)\n",
    "# creat a object \n",
    "calc=calculator()\n",
    "#User input for operation\n",
    "print('Select operation: ')\n",
    "print('1.Add')\n",
    "print('2.Sutract')\n",
    "print('3.Mnultiply')\n",
    "print('4.Division')\n",
    "print('5.Squar_Root')\n",
    "print('6.Power')\n",
    "print('7.Exit')\n",
    "\n",
    "# Get user's choice\n",
    "choice=int(input('Enter your Choice(1,2,3,4,5,6,7): '))\n",
    "#while not choice== '1,2,3,4,5,6' :\n",
    " #   print(f'Enter your choice{choice},press 7 to exit')\n",
    "#print('Happy Learning')\n",
    "\n",
    "# Take inputs from user\n",
    "#num1=float(input('enter num1: '))\n",
    "#num2=float(input('enter num2: '))\n",
    "#while not choice ==7:\n",
    "while not choice==7:   \n",
    "    if choice==5:\n",
    "        num1=float(input('enter num: '))\n",
    "        print(f'Square root of {num1} is: {calc.square_root(num1)}')\n",
    "    #while not choice==7:   \n",
    "    else:\n",
    "        num1=float(input('enter num1: '))\n",
    "        num2=float(input('enter num2: '))\n",
    "\n",
    "    if choice==1:\n",
    "        print(f'{num1} + {num2}={calc.add(num1,num2)}')\n",
    "    elif choice==2:\n",
    "        print(f'{num1} - {num2} = {calc.sub(num1,num2)}')\n",
    "    elif choice==3:\n",
    "        print(f'{num1} multiplied by {num2} = {calc.multi(num1,num2)}')\n",
    "    elif choice==4:\n",
    "        print(f'{num1} devided by {num2} = {calc.div(num1,num2)}')\n",
    "    elif choice==6:\n",
    "        print(f'{num1} to the power {num2} is: {calc.power(num1,num2)}')\n",
    "    else :\n",
    "        print('Invalide choice')\n",
    "    choice=int(input('Enter your Choice(1,2,3,4,5,6): ,Press 7 to exit'))\n",
    "print('Happy Learning')\n"
   ]
  },
  {
   "cell_type": "markdown",
   "metadata": {},
   "source": [
    "## Program 04\n",
    "#### A Program to demonstrate the Parameterized Constructor. "
   ]
  },
  {
   "cell_type": "code",
   "execution_count": 1,
   "metadata": {},
   "outputs": [
    {
     "name": "stdout",
     "output_type": "stream",
     "text": [
      "Student Name: Ashok , Student Age: 20\n"
     ]
    }
   ],
   "source": [
    "class student:\n",
    "    def __init__(self,name,age):\n",
    "        self.name=name\n",
    "        self.age=age\n",
    "    def show(self):\n",
    "        print(f'Student Name: {self.name} , Student Age: {self.age}')\n",
    "obj=student(\"Ashok\",20)\n",
    "obj.show()"
   ]
  },
  {
   "cell_type": "markdown",
   "metadata": {},
   "source": [
    "## Program 5 \n",
    "#### A program to demonstrat the Array Of Object."
   ]
  },
  {
   "cell_type": "code",
   "execution_count": 20,
   "metadata": {},
   "outputs": [
    {
     "name": "stdout",
     "output_type": "stream",
     "text": [
      "Employee Name: Ashok, ID: 1031 , Salary: 1.50cr\n",
      "Employee Name: Natnagar, ID: 1004 , Salary: 1.00cr\n"
     ]
    }
   ],
   "source": [
    "class Employee:\n",
    "    def __init__(self,name,ID,Salary):\n",
    "        self.name=name\n",
    "        self.ID=ID\n",
    "        self.salary=Salary\n",
    "    def __str__(self):\n",
    "        print(f'Employee Name: {self.name}, ID: {self.ID} , Salary: {self.salary}')\n",
    "employees=[]\n",
    "employees.append(Employee('Ashok',1031,'1.50cr'))\n",
    "employees.append(Employee('Natnagar',1004,'1.00cr'))\n",
    "#print(employees[0])\n",
    "#print(employees[1])\n",
    "for employee in employees:\n",
    "    employee.__str__()"
   ]
  },
  {
   "cell_type": "markdown",
   "metadata": {},
   "source": [
    "## Program 06\n",
    "#### A program to demonstrat a Multiple Inheritance in Python."
   ]
  },
  {
   "cell_type": "code",
   "execution_count": 3,
   "metadata": {},
   "outputs": [
    {
     "name": "stdout",
     "output_type": "stream",
     "text": [
      "Name: Ashok, Age: 20, Salary: 1.50cr, Department: CEO\n"
     ]
    }
   ],
   "source": [
    "class person:\n",
    "    def __init__(self,name,age):\n",
    "        self.name=name\n",
    "        self.age=age\n",
    "    def display_person(self):\n",
    "        print(f'Name: {self.name} , Age: {self.age}')\n",
    "\n",
    "class employee:\n",
    "    def __init__(self,salary):\n",
    "        self.salary=salary\n",
    "    def display_employee(self):\n",
    "        print(f'Salary: {self.salary}')\n",
    "\n",
    "# Multiple Inheritance\n",
    "class Manager:\n",
    "    def __init__(self,name,age,salary,department):\n",
    "        person.__init__(self,name,age)\n",
    "        employee.__init__(self,salary)\n",
    "        self.department=department\n",
    "    def display_manager(self):\n",
    "        print(f'Name: {self.name}, Age: {self.age}, Salary: {self.salary}, Department: {self.department}')\n",
    "# creating object of manager \n",
    "obj=Manager('Ashok',20,'1.50cr','CEO')\n",
    "obj.display_manager()\n",
    "#obj.display_employee()"
   ]
  },
  {
   "cell_type": "markdown",
   "metadata": {},
   "source": [
    "## Program 07\n",
    "#### A Program To demonstrate Overriding Method.\n"
   ]
  },
  {
   "cell_type": "code",
   "execution_count": 4,
   "metadata": {},
   "outputs": [
    {
     "name": "stdout",
     "output_type": "stream",
     "text": [
      "this is parent class method\n",
      "this is child class method,overriding the parent class method\n"
     ]
    }
   ],
   "source": [
    "class parent:\n",
    "    def show(self):\n",
    "        print(\"this is parent class method\")\n",
    "class child(parent):\n",
    "    def show(self):\n",
    "        print(\"this is child class method,overriding the parent class method\")\n",
    "# Creating objectds of both parent class and child class\n",
    "parent_obj=parent()\n",
    "child_obj=child()\n",
    "# Calling method\n",
    "parent_obj.show()\n",
    "child_obj.show()"
   ]
  },
  {
   "cell_type": "code",
   "execution_count": null,
   "metadata": {},
   "outputs": [],
   "source": []
  }
 ],
 "metadata": {
  "kernelspec": {
   "display_name": "Python 3",
   "language": "python",
   "name": "python3"
  },
  "language_info": {
   "codemirror_mode": {
    "name": "ipython",
    "version": 3
   },
   "file_extension": ".py",
   "mimetype": "text/x-python",
   "name": "python",
   "nbconvert_exporter": "python",
   "pygments_lexer": "ipython3",
   "version": "3.12.4"
  }
 },
 "nbformat": 4,
 "nbformat_minor": 2
}
