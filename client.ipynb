{
 "cells": [
  {
   "cell_type": "code",
   "execution_count": null,
   "id": "842f871f",
   "metadata": {},
   "outputs": [],
   "source": [
    "import socket \n",
    "\n",
    "\n",
    "client_socket=socket.socket(socket.AF_INET,socket.SOCK_STREAM)\n",
    "\n",
    "\n",
    "host='127.0.0.1'\n",
    "port=12345\n",
    "client_socket.connect((host,port))\n",
    "\n",
    "\n",
    "client_socket.send(\"Hello from client!\".encode())\n",
    "\n",
    "\n",
    "data=client_socket.recv(1024).decode()\n",
    "print(f\"Recieved from client!\".encode())\n",
    "\n",
    "\n",
    "client_socket.close()"
   ]
  }
 ],
 "metadata": {
  "language_info": {
   "name": "python"
  }
 },
 "nbformat": 4,
 "nbformat_minor": 5
}
