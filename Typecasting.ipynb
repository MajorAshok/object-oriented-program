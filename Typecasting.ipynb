{
  "nbformat": 4,
  "nbformat_minor": 0,
  "metadata": {
    "colab": {
      "provenance": [],
      "authorship_tag": "ABX9TyNLC5pWQPpphMJzeJFi3iCz",
      "include_colab_link": true
    },
    "kernelspec": {
      "name": "python3",
      "display_name": "Python 3"
    },
    "language_info": {
      "name": "python"
    }
  },
  "cells": [
    {
      "cell_type": "markdown",
      "metadata": {
        "id": "view-in-github",
        "colab_type": "text"
      },
      "source": [
        "<a href=\"https://colab.research.google.com/github/MajorAshok/object-oriented-program/blob/main/TYPECASTING.ipynb\" target=\"_parent\"><img src=\"https://colab.research.google.com/assets/colab-badge.svg\" alt=\"Open In Colab\"/></a>"
      ]
    },
    {
      "cell_type": "code",
      "execution_count": null,
      "metadata": {
        "colab": {
          "base_uri": "https://localhost:8080/"
        },
        "id": "hAndYJh3uhUd",
        "outputId": "73a379b6-396a-43a2-8935-a2880097c28f"
      },
      "outputs": [
        {
          "output_type": "stream",
          "name": "stdout",
          "text": [
            "40\n"
          ]
        }
      ],
      "source": [
        "C='x+20'\n",
        "ans=eval(C,{'x':20})\n",
        "print(ans)"
      ]
    },
    {
      "cell_type": "code",
      "source": [
        "exp='a**2+b**2+a*b*2'\n",
        "Ans=eval(exp,{'a':3,'b':4})\n",
        "print(Ans)"
      ],
      "metadata": {
        "colab": {
          "base_uri": "https://localhost:8080/"
        },
        "id": "p_gZJcY2vr0G",
        "outputId": "9fcdf40e-52b3-4d07-daf4-43004ea81818"
      },
      "execution_count": null,
      "outputs": [
        {
          "output_type": "stream",
          "name": "stdout",
          "text": [
            "49\n"
          ]
        }
      ]
    },
    {
      "cell_type": "code",
      "source": [
        "n=ord('a')\n",
        "a=bin(10)\n",
        "b=oct(25)\n",
        "C=hex(256)\n",
        "print(f'Unicode of a is :{n}')\n",
        "print(f'Binary of 10 is :{a}')\n",
        "print (f'Octal of 25 is :{b}')\n",
        "print (f'Hexal of 256 is :{C}')"
      ],
      "metadata": {
        "colab": {
          "base_uri": "https://localhost:8080/"
        },
        "id": "2JU6u3zkyYeO",
        "outputId": "991db401-cab0-40e4-94c3-be9558c811c6"
      },
      "execution_count": null,
      "outputs": [
        {
          "output_type": "stream",
          "name": "stdout",
          "text": [
            "Unicode of a is :97\n",
            "Binary of 10 is :0b1010\n",
            "Octal of 25 is :0o31\n",
            "Hexal of 256 is :0x100\n"
          ]
        }
      ]
    },
    {
      "cell_type": "code",
      "source": [
        "def evaluate(arr):\n",
        "    largest=max(arr)\n",
        "    smallest=min(arr)\n",
        "    return largest, smallest\n",
        "arr=[45,8,96,74,32,12,89,5]\n",
        "largest, smallest = evaluate(arr)\n",
        "print(\"Largest: \",largest)\n",
        "print(\"Smallest: \",smallest)"
      ],
      "metadata": {
        "id": "VNvYvWMl0R3k",
        "colab": {
          "base_uri": "https://localhost:8080/"
        },
        "outputId": "80740dc9-e294-4238-8852-1c7cd6ba217b"
      },
      "execution_count": null,
      "outputs": [
        {
          "output_type": "stream",
          "name": "stdout",
          "text": [
            "Largest:  96\n",
            "Smallest:  5\n"
          ]
        }
      ]
    },
    {
      "cell_type": "code",
      "source": [
        "Arr=[70,85,65,32,41,62,90,7,2,3,1]\n",
        "print(max(Arr))\n",
        "print(min(Arr))"
      ],
      "metadata": {
        "colab": {
          "base_uri": "https://localhost:8080/"
        },
        "id": "Roei9k20B1TN",
        "outputId": "3073f9ae-1108-416e-9e5c-e407ec7ee1dd"
      },
      "execution_count": null,
      "outputs": [
        {
          "output_type": "stream",
          "name": "stdout",
          "text": [
            "90\n",
            "1\n"
          ]
        }
      ]
    },
    {
      "cell_type": "code",
      "source": [
        "Arr=[54,21,32,76,22,90]\n",
        "largest=Arr[0]\n",
        "Smallest=Arr[0]\n",
        "for i in Arr:\n",
        "    if i > largest:\n",
        "       print(i)\n",
        "    elif i<smallest:\n",
        "       print(i)"
      ],
      "metadata": {
        "colab": {
          "base_uri": "https://localhost:8080/"
        },
        "id": "GU6bjusrCwha",
        "outputId": "0ebb8246-4b17-4b22-d76b-883122c9dc52"
      },
      "execution_count": null,
      "outputs": [
        {
          "output_type": "stream",
          "name": "stdout",
          "text": [
            "76\n",
            "90\n"
          ]
        }
      ]
    },
    {
      "cell_type": "code",
      "source": [
        "a=int(input(\"Enter a number: \"))\n",
        "b=int(input(\" Enter a number: \"))\n",
        "print(a+b)"
      ],
      "metadata": {
        "colab": {
          "base_uri": "https://localhost:8080/"
        },
        "id": "0DEJScA3H9cV",
        "outputId": "1c3d5840-3755-45a1-a355-7b6ae9be5d3c"
      },
      "execution_count": null,
      "outputs": [
        {
          "output_type": "stream",
          "name": "stdout",
          "text": [
            "Enter a number: 21\n",
            " Enter a number: 23\n",
            "44\n"
          ]
        }
      ]
    }
  ]
}